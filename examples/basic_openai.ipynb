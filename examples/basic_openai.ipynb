{
 "cells": [
  {
   "cell_type": "markdown",
   "id": "coordinated-administrator",
   "metadata": {},
   "source": [
    "## chainge Tutorial\n",
    "\n",
    "In this notebook, we'll put together a basic financial agent using LangChain and tools from chainge."
   ]
  },
  {
   "cell_type": "code",
   "execution_count": 1,
   "id": "found-collar",
   "metadata": {},
   "outputs": [
    {
     "name": "stdout",
     "output_type": "stream",
     "text": [
      "API https://finchain.p.rapidapi.com/api/v1/\n"
     ]
    }
   ],
   "source": [
    "import chainge \n",
    "import langchain\n",
    "\n",
    "#We'll use OpenAI as the standard, but our primary goal is to make chainge focused towards with more open source LLMs\n",
    "from langchain.llms import OpenAI"
   ]
  },
  {
   "cell_type": "markdown",
   "id": "mathematical-astronomy",
   "metadata": {},
   "source": [
    "First, we'll explicitly perform the model / LLM setup so that the rest of the code can be used as-is."
   ]
  },
  {
   "cell_type": "code",
   "execution_count": 2,
   "id": "prostate-birthday",
   "metadata": {},
   "outputs": [
    {
     "name": "stdout",
     "output_type": "stream",
     "text": [
      "Requirement already satisfied: openai in /usr/local/anaconda3/lib/python3.10/site-packages (0.28.1)\n",
      "Requirement already satisfied: requests>=2.20 in /usr/local/anaconda3/lib/python3.10/site-packages (from openai) (2.31.0)\n",
      "Requirement already satisfied: aiohttp in /usr/local/anaconda3/lib/python3.10/site-packages (from openai) (3.8.6)\n",
      "Requirement already satisfied: tqdm in /usr/local/anaconda3/lib/python3.10/site-packages (from openai) (4.65.0)\n",
      "Requirement already satisfied: charset-normalizer<4,>=2 in /usr/local/anaconda3/lib/python3.10/site-packages (from requests>=2.20->openai) (2.0.4)\n",
      "Requirement already satisfied: certifi>=2017.4.17 in /usr/local/anaconda3/lib/python3.10/site-packages (from requests>=2.20->openai) (2022.12.7)\n",
      "Requirement already satisfied: idna<4,>=2.5 in /usr/local/anaconda3/lib/python3.10/site-packages (from requests>=2.20->openai) (3.4)\n",
      "Requirement already satisfied: urllib3<3,>=1.21.1 in /usr/local/anaconda3/lib/python3.10/site-packages (from requests>=2.20->openai) (1.26.15)\n",
      "Requirement already satisfied: async-timeout<5.0,>=4.0.0a3 in /usr/local/anaconda3/lib/python3.10/site-packages (from aiohttp->openai) (4.0.3)\n",
      "Requirement already satisfied: yarl<2.0,>=1.0 in /usr/local/anaconda3/lib/python3.10/site-packages (from aiohttp->openai) (1.9.2)\n",
      "Requirement already satisfied: frozenlist>=1.1.1 in /usr/local/anaconda3/lib/python3.10/site-packages (from aiohttp->openai) (1.4.0)\n",
      "Requirement already satisfied: multidict<7.0,>=4.5 in /usr/local/anaconda3/lib/python3.10/site-packages (from aiohttp->openai) (6.0.4)\n",
      "Requirement already satisfied: attrs>=17.3.0 in /usr/local/anaconda3/lib/python3.10/site-packages (from aiohttp->openai) (22.1.0)\n",
      "Requirement already satisfied: aiosignal>=1.1.2 in /usr/local/anaconda3/lib/python3.10/site-packages (from aiohttp->openai) (1.3.1)\n"
     ]
    }
   ],
   "source": [
    "!pip install openai "
   ]
  },
  {
   "cell_type": "code",
   "execution_count": 3,
   "id": "fatal-seventh",
   "metadata": {},
   "outputs": [],
   "source": [
    "llm = OpenAI(temperature = 0)"
   ]
  },
  {
   "cell_type": "code",
   "execution_count": 4,
   "id": "interested-contamination",
   "metadata": {},
   "outputs": [],
   "source": [
    "from langchain.agents import initialize_agent, AgentType"
   ]
  },
  {
   "cell_type": "code",
   "execution_count": 4,
   "id": "standing-melissa",
   "metadata": {},
   "outputs": [
    {
     "name": "stdout",
     "output_type": "stream",
     "text": [
      "ENDPOINT https://finchain.p.rapidapi.com/api/v1/\n",
      "base https://finchain.p.rapidapi.com/api/v1/\n"
     ]
    }
   ],
   "source": [
    "from chainge.chain.tools.fundamentals import StockFundamentalsTool, StockFundamentalsProbeTool"
   ]
  },
  {
   "cell_type": "markdown",
   "id": "stock-techno",
   "metadata": {},
   "source": [
    "Let's build a simple agent that can answer basic fundamentals questions"
   ]
  },
  {
   "cell_type": "code",
   "execution_count": 6,
   "id": "together-paris",
   "metadata": {},
   "outputs": [],
   "source": [
    "# Structured tools are compatible with the STRUCTURED_CHAT_ZERO_SHOT_REACT_DESCRIPTION agent type.\n",
    "\n",
    "tools = [\n",
    "    StockFundamentalsProbeTool(),\n",
    "    StockFundamentalsTool(),\n",
    "]\n",
    "\n",
    "agent_executor = initialize_agent(\n",
    "    tools,\n",
    "    llm,\n",
    "    agent=AgentType.STRUCTURED_CHAT_ZERO_SHOT_REACT_DESCRIPTION,\n",
    "    verbose=True,\n",
    ")"
   ]
  },
  {
   "cell_type": "code",
   "execution_count": 7,
   "id": "precise-contrast",
   "metadata": {},
   "outputs": [
    {
     "name": "stdout",
     "output_type": "stream",
     "text": [
      "\n",
      "\n",
      "\u001b[1m> Entering new AgentExecutor chain...\u001b[0m\n",
      "\u001b[32;1m\u001b[1;3mAction:\n",
      "```\n",
      "{\n",
      "  \"action\": \"stock_fundamentals_probe\",\n",
      "  \"action_input\": \"\"\n",
      "}\n",
      "```\n",
      "\n",
      "\u001b[0mhttps://finchain.p.rapidapi.com/api/v1/stock/basic/AAPL https://finchain.p.rapidapi.com/api/v1/ stock/basic/AAPL\n",
      "{'X-RapidAPI-Key': 'aaa8ff708fmsh5a92d3148374030p126b68jsn560d268dd3cb', 'X-RapidAPI-Host': 'finchain.p.rapidapi.com'}\n",
      "\n",
      "Observation: \u001b[36;1m\u001b[1;3mHere is a list of all the fundamental attributes: 10DayAverageTradingVolume,13WeekPriceReturnDaily,26WeekPriceReturnDaily,3MonthADReturnStd,3MonthAverageTradingVolume,52WeekHigh,52WeekHighDate,52WeekLow,52WeekLowDate,52WeekPriceReturnDaily,5DayPriceReturnDaily,assetTurnoverAnnual,assetTurnoverTTM,beta,bookValuePerShareAnnual,bookValuePerShareQuarterly,bookValueShareGrowth5Y,capexCagr5Y,cashFlowPerShareAnnual,cashFlowPerShareQuarterly,cashFlowPerShareTTM,cashPerSharePerShareAnnual,cashPerSharePerShareQuarterly,currentDividendYieldTTM,currentEv/freeCashFlowAnnual,currentEv/freeCashFlowTTM,currentRatioAnnual,currentRatioQuarterly,dividendGrowthRate5Y,dividendPerShareAnnual,dividendPerShareTTM,dividendYieldIndicatedAnnual,ebitdPerShareAnnual,ebitdPerShareTTM,ebitdaCagr5Y,ebitdaInterimCagr5Y,enterpriseValue,epsAnnual,epsBasicExclExtraItemsAnnual,epsBasicExclExtraItemsTTM,epsExclExtraItemsAnnual,epsExclExtraItemsTTM,epsGrowth3Y,epsGrowth5Y,epsGrowthQuarterlyYoy,epsGrowthTTMYoy,epsInclExtraItemsAnnual,epsInclExtraItemsTTM,epsNormalizedAnnual,epsTTM,focfCagr5Y,grossMargin5Y,grossMarginAnnual,grossMarginTTM,inventoryTurnoverAnnual,inventoryTurnoverTTM,longTermDebt/equityAnnual,longTermDebt/equityQuarterly,marketCapitalization,monthToDatePriceReturnDaily,netIncomeEmployeeAnnual,netIncomeEmployeeTTM,netInterestCoverageAnnual,netInterestCoverageTTM,netMarginGrowth5Y,netProfitMargin5Y,netProfitMarginAnnual,netProfitMarginTTM,operatingMargin5Y,operatingMarginAnnual,operatingMarginTTM,payoutRatioAnnual,payoutRatioTTM,pbAnnual,pbQuarterly,pcfShareAnnual,pcfShareTTM,peAnnual,peBasicExclExtraTTM,peExclExtraAnnual,peExclExtraTTM,peInclExtraTTM,peNormalizedAnnual,peTTM,pfcfShareAnnual,pfcfShareTTM,pretaxMargin5Y,pretaxMarginAnnual,pretaxMarginTTM,priceRelativeToS&P50013Week,priceRelativeToS&P50026Week,priceRelativeToS&P5004Week,priceRelativeToS&P50052Week,priceRelativeToS&P500Ytd,psAnnual,psTTM,ptbvAnnual,ptbvQuarterly,quickRatioAnnual,quickRatioQuarterly,receivablesTurnoverAnnual,receivablesTurnoverTTM,revenueEmployeeAnnual,revenueEmployeeTTM,revenueGrowth3Y,revenueGrowth5Y,revenueGrowthQuarterlyYoy,revenueGrowthTTMYoy,revenuePerShareAnnual,revenuePerShareTTM,revenueShareGrowth5Y,roa5Y,roaRfy,roaTTM,roe5Y,roeRfy,roeTTM,roi5Y,roiAnnual,roiTTM,tangibleBookValuePerShareAnnual,tangibleBookValuePerShareQuarterly,tbvCagr5Y,totalDebt/totalEquityAnnual,totalDebt/totalEquityQuarterly,yearToDatePriceReturnDaily\u001b[0m\n",
      "Thought:\u001b[32;1m\u001b[1;3m I need to use the stock fundamentals tool to answer the question\n",
      "Action:\n",
      "```\n",
      "{\n",
      "  \"action\": \"stock_fundamentals_post_probe_data\",\n",
      "  \"action_input\": {\n",
      "    \"stock_ticker_name\": \"AAPL\",\n",
      "    \"requested_metrics\": \"10DayAverageTradingVolume,roa5Y\"\n",
      "  }\n",
      "}\n",
      "```\n",
      "\n",
      "\u001b[0mLooking for  ['10DayAverageTradingVolume', 'roa5Y']\n",
      "https://finchain.p.rapidapi.com/api/v1/stock/basic/AAPL https://finchain.p.rapidapi.com/api/v1/ stock/basic/AAPL\n",
      "{'X-RapidAPI-Key': 'aaa8ff708fmsh5a92d3148374030p126b68jsn560d268dd3cb', 'X-RapidAPI-Host': 'finchain.p.rapidapi.com'}\n",
      "\n",
      "Observation: \u001b[33;1m\u001b[1;3m{'10DayAverageTradingVolume': 57.44557, 'roa5Y': 21.12}\u001b[0m\n",
      "Thought:\u001b[32;1m\u001b[1;3m I have the answer\n",
      "Action:\n",
      "```\n",
      "{\n",
      "  \"action\": \"Final Answer\",\n",
      "  \"action_input\": \"Apple Inc's ten day average trading volume is 57.45 and its return on assets over 5 years is 21.12%\"\n",
      "}\n",
      "```\u001b[0m\n",
      "\n",
      "\u001b[1m> Finished chain.\u001b[0m\n"
     ]
    },
    {
     "data": {
      "text/plain": [
       "\"Apple Inc's ten day average trading volume is 57.45 and its return on assets over 5 years is 21.12%\""
      ]
     },
     "execution_count": 7,
     "metadata": {},
     "output_type": "execute_result"
    }
   ],
   "source": [
    "agent_executor.run(\"What is Apple Inc's ten day average trading volume and roa over 5 years?\")"
   ]
  },
  {
   "cell_type": "markdown",
   "id": "defensive-marriage",
   "metadata": {},
   "source": [
    "Let's take a look at some utilies chainge has to offer"
   ]
  },
  {
   "cell_type": "code",
   "execution_count": 5,
   "id": "accepted-vanilla",
   "metadata": {},
   "outputs": [
    {
     "name": "stdout",
     "output_type": "stream",
     "text": [
      "ENDPOINT https://finchain.p.rapidapi.com/api/v1/\n",
      "base https://finchain.p.rapidapi.com/api/v1/\n"
     ]
    }
   ],
   "source": [
    "from chainge.chain.tools.utils import StockLookupTool"
   ]
  },
  {
   "cell_type": "code",
   "execution_count": 8,
   "id": "agreed-strain",
   "metadata": {},
   "outputs": [],
   "source": [
    "from langchain.agents import initialize_agent, AgentType"
   ]
  },
  {
   "cell_type": "code",
   "execution_count": 9,
   "id": "revolutionary-offset",
   "metadata": {},
   "outputs": [],
   "source": [
    "# Structured tools are compatible with the STRUCTURED_CHAT_ZERO_SHOT_REACT_DESCRIPTION agent type.\n",
    "\n",
    "tools = [\n",
    "    StockLookupTool()\n",
    "]\n",
    "\n",
    "agent_executor = initialize_agent(\n",
    "    tools,\n",
    "    llm,\n",
    "    agent=AgentType.STRUCTURED_CHAT_ZERO_SHOT_REACT_DESCRIPTION,\n",
    "    verbose=True,\n",
    ")"
   ]
  },
  {
   "cell_type": "code",
   "execution_count": 10,
   "id": "banner-devon",
   "metadata": {},
   "outputs": [
    {
     "name": "stdout",
     "output_type": "stream",
     "text": [
      "\n",
      "\n",
      "\u001b[1m> Entering new AgentExecutor chain...\u001b[0m\n",
      "\u001b[32;1m\u001b[1;3mAction:\n",
      "```\n",
      "{\n",
      "  \"action\": \"keyword_to_ticker\",\n",
      "  \"action_input\": \"apple\"\n",
      "}\n",
      "```\n",
      "\u001b[0mhttps://finchain.p.rapidapi.com/api/v1/stock/lookup/apple https://finchain.p.rapidapi.com/api/v1/ stock/lookup/apple\n",
      "{'X-RapidAPI-Key': 'aaa8ff708fmsh5a92d3148374030p126b68jsn560d268dd3cb', 'X-RapidAPI-Host': 'finchain.p.rapidapi.com'}\n",
      "Looking for  {'count': 22, 'result': [{'description': 'Apple', 'displaySymbol': 'APCX.MU', 'symbol': 'APCX.MU', 'type': ''}, {'description': 'Apple', 'displaySymbol': 'A1HKKY.HA', 'symbol': 'A1HKKY.HA', 'type': ''}, {'description': 'Apple', 'displaySymbol': 'A3LHSP.DU', 'symbol': 'A3LHSP.DU', 'type': ''}, {'description': 'Apple', 'displaySymbol': 'APCX.DU', 'symbol': 'APCX.DU', 'type': ''}, {'description': 'Apple', 'displaySymbol': 'A19C0M.HM', 'symbol': 'A19C0M.HM', 'type': ''}, {'description': 'Apple', 'displaySymbol': 'A3LHSR.DU', 'symbol': 'A3LHSR.DU', 'type': ''}, {'description': 'Apple', 'displaySymbol': 'A3KUT5.BE', 'symbol': 'A3KUT5.BE', 'type': ''}, {'description': 'Apple', 'displaySymbol': 'A2R7JV.BE', 'symbol': 'A2R7JV.BE', 'type': ''}, {'description': 'Apple', 'displaySymbol': 'A3K78V.MU', 'symbol': 'A3K78V.MU', 'type': ''}, {'description': 'Apple', 'displaySymbol': 'A3KUT6.BE', 'symbol': 'A3KUT6.BE', 'type': ''}, {'description': 'Apple', 'displaySymbol': 'A3K78T.BE', 'symbol': 'A3K78T.BE', 'type': ''}, {'description': 'Apple', 'displaySymbol': 'APCT.DU', 'symbol': 'APCT.DU', 'type': ''}, {'description': 'Apple', 'displaySymbol': 'APCU.HA', 'symbol': 'APCU.HA', 'type': ''}, {'description': 'Apple', 'displaySymbol': 'A3KUT3.MU', 'symbol': 'A3KUT3.MU', 'type': ''}, {'description': 'Apple', 'displaySymbol': 'APCU.BE', 'symbol': 'APCU.BE', 'type': ''}, {'description': 'Apple', 'displaySymbol': 'A3LHSN.BE', 'symbol': 'A3LHSN.BE', 'type': ''}, {'description': 'Apple', 'displaySymbol': 'APCL.HM', 'symbol': 'APCL.HM', 'type': ''}, {'description': 'Apple', 'displaySymbol': 'A2R7JT.DU', 'symbol': 'A2R7JT.DU', 'type': ''}, {'description': 'Apple', 'displaySymbol': 'APC5.DU', 'symbol': 'APC5.DU', 'type': ''}, {'description': 'Apple', 'displaySymbol': 'A1HKKY.DU', 'symbol': 'A1HKKY.DU', 'type': ''}, {'description': 'Apple', 'displaySymbol': 'A3LHSR.BE', 'symbol': 'A3LHSR.BE', 'type': ''}, {'description': 'Apple', 'displaySymbol': 'A3KUT4.MU', 'symbol': 'A3KUT4.MU', 'type': ''}]}\n",
      "\n",
      "Observation: \u001b[36;1m\u001b[1;3m{'count': 22, 'result': [{'description': 'Apple', 'displaySymbol': 'APCX.MU', 'symbol': 'APCX.MU', 'type': ''}, {'description': 'Apple', 'displaySymbol': 'A1HKKY.HA', 'symbol': 'A1HKKY.HA', 'type': ''}, {'description': 'Apple', 'displaySymbol': 'A3LHSP.DU', 'symbol': 'A3LHSP.DU', 'type': ''}, {'description': 'Apple', 'displaySymbol': 'APCX.DU', 'symbol': 'APCX.DU', 'type': ''}, {'description': 'Apple', 'displaySymbol': 'A19C0M.HM', 'symbol': 'A19C0M.HM', 'type': ''}, {'description': 'Apple', 'displaySymbol': 'A3LHSR.DU', 'symbol': 'A3LHSR.DU', 'type': ''}, {'description': 'Apple', 'displaySymbol': 'A3KUT5.BE', 'symbol': 'A3KUT5.BE', 'type': ''}, {'description': 'Apple', 'displaySymbol': 'A2R7JV.BE', 'symbol': 'A2R7JV.BE', 'type': ''}, {'description': 'Apple', 'displaySymbol': 'A3K78V.MU', 'symbol': 'A3K78V.MU', 'type': ''}, {'description': 'Apple', 'displaySymbol': 'A3KUT6.BE', 'symbol': 'A3KUT6.BE', 'type': ''}, {'description': 'Apple', 'displaySymbol': 'A3K78T.BE', 'symbol': 'A3K78T.BE', 'type': ''}, {'description': 'Apple', 'displaySymbol': 'APCT.DU', 'symbol': 'APCT.DU', 'type': ''}, {'description': 'Apple', 'displaySymbol': 'APCU.HA', 'symbol': 'APCU.HA', 'type': ''}, {'description': 'Apple', 'displaySymbol': 'A3KUT3.MU', 'symbol': 'A3KUT3.MU', 'type': ''}, {'description': 'Apple', 'displaySymbol': 'APCU.BE', 'symbol': 'APCU.BE', 'type': ''}, {'description': 'Apple', 'displaySymbol': 'A3LHSN.BE', 'symbol': 'A3LHSN.BE', 'type': ''}, {'description': 'Apple', 'displaySymbol': 'APCL.HM', 'symbol': 'APCL.HM', 'type': ''}, {'description': 'Apple', 'displaySymbol': 'A2R7JT.DU', 'symbol': 'A2R7JT.DU', 'type': ''}, {'description': 'Apple', 'displaySymbol': 'APC5.DU', 'symbol': 'APC5.DU', 'type': ''}, {'description': 'Apple', 'displaySymbol': 'A1HKKY.DU', 'symbol': 'A1HKKY.DU', 'type': ''}, {'description': 'Apple', 'displaySymbol': 'A3LHSR.BE', 'symbol': 'A3LHSR.BE', 'type': ''}, {'description': 'Apple', 'displaySymbol': 'A3KUT4.MU', 'symbol': 'A3KUT4.MU', 'type': ''}]}\u001b[0m\n",
      "Thought:\u001b[32;1m\u001b[1;3m I have the list of tickers associated with Apple\n",
      "Action:\n",
      "```\n",
      "{\n",
      "  \"action\": \"Final Answer\",\n",
      "  \"action_input\": \"The tickers associated with Apple are APCX.MU, A1HKKY.HA, A3LHSP.DU, APCX.DU, A19C0M.HM, A3LHSR.DU, A3KUT5.BE, A2R7JV.BE, A3K78V.MU, A3KUT6.BE, A3K78T.BE, APCT.DU, APCU.HA, A3KUT3.MU, APCU.BE, A3LHSN.BE, APCL.HM, A2R7JT.DU, APC5.DU, A1HKKY.DU, A3LHSR.BE, and A3KUT4.MU.\"\n",
      "}\n",
      "```\n",
      "\n",
      "\u001b[0m\n",
      "\n",
      "\u001b[1m> Finished chain.\u001b[0m\n"
     ]
    },
    {
     "data": {
      "text/plain": [
       "'The tickers associated with Apple are APCX.MU, A1HKKY.HA, A3LHSP.DU, APCX.DU, A19C0M.HM, A3LHSR.DU, A3KUT5.BE, A2R7JV.BE, A3K78V.MU, A3KUT6.BE, A3K78T.BE, APCT.DU, APCU.HA, A3KUT3.MU, APCU.BE, A3LHSN.BE, APCL.HM, A2R7JT.DU, APC5.DU, A1HKKY.DU, A3LHSR.BE, and A3KUT4.MU.'"
      ]
     },
     "execution_count": 10,
     "metadata": {},
     "output_type": "execute_result"
    }
   ],
   "source": [
    "agent_executor.run(\"What are some tickers associated with Apple?\")"
   ]
  },
  {
   "cell_type": "markdown",
   "id": "continuous-charlotte",
   "metadata": {},
   "source": [
    "Competitor Analysis - we've also got some basic support that'll help your AI locate competitors to analyze."
   ]
  },
  {
   "cell_type": "code",
   "execution_count": 6,
   "id": "coral-employee",
   "metadata": {},
   "outputs": [],
   "source": [
    "from chainge.chain.tools.utils import AlternativesLookupTool"
   ]
  },
  {
   "cell_type": "code",
   "execution_count": 7,
   "id": "racial-spanking",
   "metadata": {},
   "outputs": [],
   "source": [
    "# Structured tools are compatible with the STRUCTURED_CHAT_ZERO_SHOT_REACT_DESCRIPTION agent type.\n",
    "\n",
    "tools = [\n",
    "    StockLookupTool(),\n",
    "    AlternativesLookupTool(),\n",
    "]\n",
    "\n",
    "agent_executor = initialize_agent(\n",
    "    tools,\n",
    "    llm,\n",
    "    agent=AgentType.STRUCTURED_CHAT_ZERO_SHOT_REACT_DESCRIPTION,\n",
    "    verbose=True,\n",
    ")"
   ]
  },
  {
   "cell_type": "code",
   "execution_count": 8,
   "id": "frequent-quilt",
   "metadata": {},
   "outputs": [
    {
     "name": "stdout",
     "output_type": "stream",
     "text": [
      "\n",
      "\n",
      "\u001b[1m> Entering new AgentExecutor chain...\u001b[0m\n",
      "\u001b[32;1m\u001b[1;3mAction:\n",
      "```\n",
      "{\n",
      "  \"action\": \"keyword_to_ticker\",\n",
      "  \"action_input\": \"apple\"\n",
      "}\n",
      "```\n",
      "\u001b[0mhttps://finchain.p.rapidapi.com/api/v1/stock/lookup/apple https://finchain.p.rapidapi.com/api/v1/ stock/lookup/apple\n",
      "{'X-RapidAPI-Key': 'aaa8ff708fmsh5a92d3148374030p126b68jsn560d268dd3cb', 'X-RapidAPI-Host': 'finchain.p.rapidapi.com'}\n",
      "Looking for  {'count': 22, 'result': [{'description': 'Apple', 'displaySymbol': 'A3LHSQ.BE', 'symbol': 'A3LHSQ.BE', 'type': ''}, {'description': 'Apple', 'displaySymbol': 'A1HKKY.DU', 'symbol': 'A1HKKY.DU', 'type': ''}, {'description': 'Apple', 'displaySymbol': 'A3KUT6.DU', 'symbol': 'A3KUT6.DU', 'type': ''}, {'description': 'Apple', 'displaySymbol': 'A3K78W.MU', 'symbol': 'A3K78W.MU', 'type': ''}, {'description': 'Apple', 'displaySymbol': 'A3LHSP.BE', 'symbol': 'A3LHSP.BE', 'type': ''}, {'description': 'Apple', 'displaySymbol': 'APCL.DU', 'symbol': 'APCL.DU', 'type': ''}, {'description': 'Apple', 'displaySymbol': 'A3KUT3.MU', 'symbol': 'A3KUT3.MU', 'type': ''}, {'description': 'Apple', 'displaySymbol': 'APCU.BE', 'symbol': 'APCU.BE', 'type': ''}, {'description': 'Apple', 'displaySymbol': 'A19C0M.MU', 'symbol': 'A19C0M.MU', 'type': ''}, {'description': 'Apple', 'displaySymbol': 'A3K78T.BE', 'symbol': 'A3K78T.BE', 'type': ''}, {'description': 'Apple', 'displaySymbol': 'APCX.MU', 'symbol': 'APCX.MU', 'type': ''}, {'description': 'Apple', 'displaySymbol': 'A3KUT6.MU', 'symbol': 'A3KUT6.MU', 'type': ''}, {'description': 'Apple', 'displaySymbol': 'A2R7JV.BE', 'symbol': 'A2R7JV.BE', 'type': ''}, {'description': 'Apple', 'displaySymbol': 'A3LHSN.BE', 'symbol': 'A3LHSN.BE', 'type': ''}, {'description': 'Apple', 'displaySymbol': 'A2R7JT.DU', 'symbol': 'A2R7JT.DU', 'type': ''}, {'description': 'Apple', 'displaySymbol': 'APCU.HA', 'symbol': 'APCU.HA', 'type': ''}, {'description': 'Apple', 'displaySymbol': 'A1HKKY.BE', 'symbol': 'A1HKKY.BE', 'type': ''}, {'description': 'Apple', 'displaySymbol': 'A2R7JT.BE', 'symbol': 'A2R7JT.BE', 'type': ''}, {'description': 'Apple', 'displaySymbol': 'APCT.MU', 'symbol': 'APCT.MU', 'type': ''}, {'description': 'Apple', 'displaySymbol': 'A19C0M.HA', 'symbol': 'A19C0M.HA', 'type': ''}, {'description': 'Apple', 'displaySymbol': 'A19C0M.HM', 'symbol': 'A19C0M.HM', 'type': ''}, {'description': 'Apple', 'displaySymbol': 'A3LHSS.BE', 'symbol': 'A3LHSS.BE', 'type': ''}]}\n",
      "\n",
      "Observation: \u001b[36;1m\u001b[1;3m{'count': 22, 'result': [{'description': 'Apple', 'displaySymbol': 'A3LHSQ.BE', 'symbol': 'A3LHSQ.BE', 'type': ''}, {'description': 'Apple', 'displaySymbol': 'A1HKKY.DU', 'symbol': 'A1HKKY.DU', 'type': ''}, {'description': 'Apple', 'displaySymbol': 'A3KUT6.DU', 'symbol': 'A3KUT6.DU', 'type': ''}, {'description': 'Apple', 'displaySymbol': 'A3K78W.MU', 'symbol': 'A3K78W.MU', 'type': ''}, {'description': 'Apple', 'displaySymbol': 'A3LHSP.BE', 'symbol': 'A3LHSP.BE', 'type': ''}, {'description': 'Apple', 'displaySymbol': 'APCL.DU', 'symbol': 'APCL.DU', 'type': ''}, {'description': 'Apple', 'displaySymbol': 'A3KUT3.MU', 'symbol': 'A3KUT3.MU', 'type': ''}, {'description': 'Apple', 'displaySymbol': 'APCU.BE', 'symbol': 'APCU.BE', 'type': ''}, {'description': 'Apple', 'displaySymbol': 'A19C0M.MU', 'symbol': 'A19C0M.MU', 'type': ''}, {'description': 'Apple', 'displaySymbol': 'A3K78T.BE', 'symbol': 'A3K78T.BE', 'type': ''}, {'description': 'Apple', 'displaySymbol': 'APCX.MU', 'symbol': 'APCX.MU', 'type': ''}, {'description': 'Apple', 'displaySymbol': 'A3KUT6.MU', 'symbol': 'A3KUT6.MU', 'type': ''}, {'description': 'Apple', 'displaySymbol': 'A2R7JV.BE', 'symbol': 'A2R7JV.BE', 'type': ''}, {'description': 'Apple', 'displaySymbol': 'A3LHSN.BE', 'symbol': 'A3LHSN.BE', 'type': ''}, {'description': 'Apple', 'displaySymbol': 'A2R7JT.DU', 'symbol': 'A2R7JT.DU', 'type': ''}, {'description': 'Apple', 'displaySymbol': 'APCU.HA', 'symbol': 'APCU.HA', 'type': ''}, {'description': 'Apple', 'displaySymbol': 'A1HKKY.BE', 'symbol': 'A1HKKY.BE', 'type': ''}, {'description': 'Apple', 'displaySymbol': 'A2R7JT.BE', 'symbol': 'A2R7JT.BE', 'type': ''}, {'description': 'Apple', 'displaySymbol': 'APCT.MU', 'symbol': 'APCT.MU', 'type': ''}, {'description': 'Apple', 'displaySymbol': 'A19C0M.HA', 'symbol': 'A19C0M.HA', 'type': ''}, {'description': 'Apple', 'displaySymbol': 'A19C0M.HM', 'symbol': 'A19C0M.HM', 'type': ''}, {'description': 'Apple', 'displaySymbol': 'A3LHSS.BE', 'symbol': 'A3LHSS.BE', 'type': ''}]}\u001b[0m\n",
      "Thought:\u001b[32;1m\u001b[1;3m Now I need to find alternative tickers\n",
      "Action:\n",
      "```\n",
      "{\n",
      "  \"action\": \"alternative_tickers_from_ticker\",\n",
      "  \"action_input\": \"AAPL\"\n",
      "}\n",
      "```\n",
      "\n",
      "\u001b[0mhttps://finchain.p.rapidapi.com/api/v1/stock/alternatives/AAPL https://finchain.p.rapidapi.com/api/v1/ stock/alternatives/AAPL\n",
      "{'X-RapidAPI-Key': 'aaa8ff708fmsh5a92d3148374030p126b68jsn560d268dd3cb', 'X-RapidAPI-Host': 'finchain.p.rapidapi.com'}\n",
      "\n",
      "Observation: \u001b[33;1m\u001b[1;3m['AAPL', 'DELL', 'HPQ', '1337.HK', 'HPE', 'NTAP', 'SMCI', 'WDC', 'PSTG', 'IONQ']\u001b[0m\n",
      "Thought:\u001b[32;1m\u001b[1;3m I know what to respond\n",
      "Action:\n",
      "```\n",
      "{\n",
      "  \"action\": \"Final Answer\",\n",
      "  \"action_input\": \"The alternative tickers to Apple are AAPL, DELL, HPQ, 1337.HK, HPE, NTAP, SMCI, WDC, PSTG, and IONQ.\"\n",
      "}\n",
      "```\u001b[0m\n",
      "\n",
      "\u001b[1m> Finished chain.\u001b[0m\n"
     ]
    },
    {
     "data": {
      "text/plain": [
       "'The alternative tickers to Apple are AAPL, DELL, HPQ, 1337.HK, HPE, NTAP, SMCI, WDC, PSTG, and IONQ.'"
      ]
     },
     "execution_count": 8,
     "metadata": {},
     "output_type": "execute_result"
    }
   ],
   "source": [
    "agent_executor.run(\"What are some alternative companies to apple?\")"
   ]
  },
  {
   "cell_type": "code",
   "execution_count": null,
   "id": "interracial-mileage",
   "metadata": {},
   "outputs": [],
   "source": []
  }
 ],
 "metadata": {
  "kernelspec": {
   "display_name": "Python (chainge)",
   "language": "python",
   "name": "chainge"
  },
  "language_info": {
   "codemirror_mode": {
    "name": "ipython",
    "version": 3
   },
   "file_extension": ".py",
   "mimetype": "text/x-python",
   "name": "python",
   "nbconvert_exporter": "python",
   "pygments_lexer": "ipython3",
   "version": "3.10.9"
  }
 },
 "nbformat": 4,
 "nbformat_minor": 5
}
