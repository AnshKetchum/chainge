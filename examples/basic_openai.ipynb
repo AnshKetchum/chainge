{
 "cells": [
  {
   "cell_type": "markdown",
   "id": "coordinated-administrator",
   "metadata": {},
   "source": [
    "## chainge Tutorial\n",
    "\n",
    "In this notebook, we'll put together a basic financial agent using LangChain and tools from chainge."
   ]
  },
  {
   "cell_type": "code",
   "execution_count": 1,
   "id": "found-collar",
   "metadata": {},
   "outputs": [],
   "source": [
    "import chainge \n",
    "import langchain\n",
    "\n",
    "#We'll use OpenAI as the standard, but our primary goal is to make chainge focused towards with more open source LLMs\n",
    "from langchain.llms import OpenAI"
   ]
  },
  {
   "cell_type": "markdown",
   "id": "mathematical-astronomy",
   "metadata": {},
   "source": [
    "First, we'll explicitly perform the model / LLM setup so that the rest of the code can be used as-is."
   ]
  },
  {
   "cell_type": "code",
   "execution_count": 2,
   "id": "prostate-birthday",
   "metadata": {},
   "outputs": [
    {
     "name": "stdout",
     "output_type": "stream",
     "text": [
      "Collecting openai\n",
      "  Downloading openai-1.1.1-py3-none-any.whl (217 kB)\n",
      "\u001b[K     |████████████████████████████████| 217 kB 722 kB/s eta 0:00:01\n",
      "\u001b[?25hRequirement already satisfied: tqdm>4 in /Library/Frameworks/Python.framework/Versions/3.7/lib/python3.7/site-packages (from openai) (4.60.0)\n",
      "Collecting httpx<1,>=0.23.0\n",
      "  Downloading httpx-0.24.1-py3-none-any.whl (75 kB)\n",
      "\u001b[K     |████████████████████████████████| 75 kB 798 kB/s eta 0:00:01\n",
      "\u001b[?25hCollecting anyio<4,>=3.5.0\n",
      "  Downloading anyio-3.7.1-py3-none-any.whl (80 kB)\n",
      "\u001b[K     |████████████████████████████████| 80 kB 798 kB/s eta 0:00:01\n",
      "\u001b[?25hRequirement already satisfied: typing-extensions<5,>=4.5 in /Library/Frameworks/Python.framework/Versions/3.7/lib/python3.7/site-packages (from openai) (4.7.1)\n",
      "Collecting distro<2,>=1.7.0\n",
      "  Downloading distro-1.8.0-py3-none-any.whl (20 kB)\n",
      "Collecting pydantic<3,>=1.9.0\n",
      "  Downloading pydantic-2.4.2-py3-none-any.whl (395 kB)\n",
      "\u001b[K     |████████████████████████████████| 395 kB 1.1 MB/s eta 0:00:01\n",
      "\u001b[?25hCollecting exceptiongroup\n",
      "  Downloading exceptiongroup-1.1.3-py3-none-any.whl (14 kB)\n",
      "Collecting sniffio>=1.1\n",
      "  Downloading sniffio-1.3.0-py3-none-any.whl (10 kB)\n",
      "Requirement already satisfied: idna>=2.8 in /Library/Frameworks/Python.framework/Versions/3.7/lib/python3.7/site-packages (from anyio<4,>=3.5.0->openai) (2.10)\n",
      "Collecting httpcore<0.18.0,>=0.15.0\n",
      "  Downloading httpcore-0.17.3-py3-none-any.whl (74 kB)\n",
      "\u001b[K     |████████████████████████████████| 74 kB 578 kB/s eta 0:00:01\n",
      "\u001b[?25hRequirement already satisfied: certifi in /Library/Frameworks/Python.framework/Versions/3.7/lib/python3.7/site-packages (from httpx<1,>=0.23.0->openai) (2020.6.20)\n",
      "Collecting h11<0.15,>=0.13\n",
      "  Downloading h11-0.14.0-py3-none-any.whl (58 kB)\n",
      "\u001b[K     |████████████████████████████████| 58 kB 2.3 MB/s eta 0:00:01\n",
      "\u001b[?25hCollecting pydantic-core==2.10.1\n",
      "  Downloading pydantic_core-2.10.1-cp37-cp37m-macosx_10_7_x86_64.whl (1.9 MB)\n",
      "\u001b[K     |████████████████████████████████| 1.9 MB 1.5 MB/s eta 0:00:01\n",
      "\u001b[?25hCollecting annotated-types>=0.4.0\n",
      "  Downloading annotated_types-0.5.0-py3-none-any.whl (11 kB)\n",
      "Installing collected packages: sniffio, exceptiongroup, h11, anyio, pydantic-core, httpcore, annotated-types, pydantic, httpx, distro, openai\n",
      "Successfully installed annotated-types-0.5.0 anyio-3.7.1 distro-1.8.0 exceptiongroup-1.1.3 h11-0.14.0 httpcore-0.17.3 httpx-0.24.1 openai-1.1.1 pydantic-2.4.2 pydantic-core-2.10.1 sniffio-1.3.0\n",
      "\u001b[33mWARNING: You are using pip version 21.0.1; however, version 23.3.1 is available.\n",
      "You should consider upgrading via the '/Library/Frameworks/Python.framework/Versions/3.7/bin/python3.7 -m pip install --upgrade pip' command.\u001b[0m\n"
     ]
    }
   ],
   "source": [
    "!pip install openai "
   ]
  },
  {
   "cell_type": "code",
   "execution_count": 6,
   "id": "fatal-seventh",
   "metadata": {},
   "outputs": [],
   "source": [
    "llm = OpenAI(temperature = 0)"
   ]
  },
  {
   "cell_type": "code",
   "execution_count": 7,
   "id": "interested-contamination",
   "metadata": {},
   "outputs": [],
   "source": [
    "from langchain.agents import initialize_agent, AgentType"
   ]
  },
  {
   "cell_type": "code",
   "execution_count": 9,
   "id": "standing-melissa",
   "metadata": {},
   "outputs": [
    {
     "ename": "ImportError",
     "evalue": "attempted relative import with no known parent package",
     "output_type": "error",
     "traceback": [
      "\u001b[0;31m---------------------------------------------------------------------------\u001b[0m",
      "\u001b[0;31mImportError\u001b[0m                               Traceback (most recent call last)",
      "Cell \u001b[0;32mIn[9], line 1\u001b[0m\n\u001b[0;32m----> 1\u001b[0m \u001b[38;5;28;01mfrom\u001b[39;00m \u001b[38;5;21;01m.\u001b[39;00m\u001b[38;5;21;01m.\u001b[39;00m\u001b[38;5;21;01mchainge\u001b[39;00m\u001b[38;5;21;01m.\u001b[39;00m\u001b[38;5;21;01mchain\u001b[39;00m\u001b[38;5;21;01m.\u001b[39;00m\u001b[38;5;21;01mtools\u001b[39;00m\u001b[38;5;21;01m.\u001b[39;00m\u001b[38;5;21;01mfundamentals\u001b[39;00m \u001b[38;5;28;01mimport\u001b[39;00m StockFundamentalsTool, StockFundamentalsProbeTool\n",
      "\u001b[0;31mImportError\u001b[0m: attempted relative import with no known parent package"
     ]
    }
   ],
   "source": [
    "from chainge.chain.tools.fundamentals import StockFundamentalsTool, StockFundamentalsProbeTool"
   ]
  },
  {
   "cell_type": "markdown",
   "id": "stock-techno",
   "metadata": {},
   "source": [
    "Let's build a simple agent that can answer basic fundamentals questions"
   ]
  },
  {
   "cell_type": "code",
   "execution_count": null,
   "id": "together-paris",
   "metadata": {},
   "outputs": [],
   "source": [
    "# Structured tools are compatible with the STRUCTURED_CHAT_ZERO_SHOT_REACT_DESCRIPTION agent type.\n",
    "\n",
    "tools = [\n",
    "    StockFundamentalsProbeTool(),\n",
    "    StockFundamentalsTool(),\n",
    "]\n",
    "\n",
    "agent_executor = initialize_agent(\n",
    "    tools,\n",
    "    llm,\n",
    "    agent=AgentType.STRUCTURED_CHAT_ZERO_SHOT_REACT_DESCRIPTION,\n",
    "    verbose=True,\n",
    ")"
   ]
  },
  {
   "cell_type": "code",
   "execution_count": null,
   "id": "precise-contrast",
   "metadata": {},
   "outputs": [],
   "source": [
    "agent_executor.run(\"What is Apple Inc's ten day average trading volume and roa over 5 years?\")"
   ]
  },
  {
   "cell_type": "markdown",
   "id": "defensive-marriage",
   "metadata": {},
   "source": [
    "Let's take a look at some utilies chainge has to offer"
   ]
  },
  {
   "cell_type": "code",
   "execution_count": null,
   "id": "accepted-vanilla",
   "metadata": {},
   "outputs": [],
   "source": [
    "from chainge.chain.tools.utils import StockLookupTool"
   ]
  },
  {
   "cell_type": "code",
   "execution_count": null,
   "id": "agreed-strain",
   "metadata": {},
   "outputs": [],
   "source": [
    "from langchain.agents import initialize_agent, AgentType"
   ]
  },
  {
   "cell_type": "code",
   "execution_count": null,
   "id": "revolutionary-offset",
   "metadata": {},
   "outputs": [],
   "source": [
    "# Structured tools are compatible with the STRUCTURED_CHAT_ZERO_SHOT_REACT_DESCRIPTION agent type.\n",
    "\n",
    "tools = [\n",
    "    StockLookupTool()\n",
    "]\n",
    "\n",
    "agent_executor = initialize_agent(\n",
    "    tools,\n",
    "    llm,\n",
    "    agent=AgentType.STRUCTURED_CHAT_ZERO_SHOT_REACT_DESCRIPTION,\n",
    "    verbose=True,\n",
    ")"
   ]
  },
  {
   "cell_type": "code",
   "execution_count": null,
   "id": "banner-devon",
   "metadata": {},
   "outputs": [],
   "source": [
    "agent_executor.run(\"What are some tickers associated with Apple?\")"
   ]
  },
  {
   "cell_type": "markdown",
   "id": "continuous-charlotte",
   "metadata": {},
   "source": [
    "Competitor Analysis - we've also got some basic support that'll help your AI locate competitors to analyze."
   ]
  },
  {
   "cell_type": "code",
   "execution_count": null,
   "id": "coral-employee",
   "metadata": {},
   "outputs": [],
   "source": [
    "from chainge.chain.tools.utils import AlternativesLookupTool"
   ]
  },
  {
   "cell_type": "code",
   "execution_count": null,
   "id": "racial-spanking",
   "metadata": {},
   "outputs": [],
   "source": [
    "# Structured tools are compatible with the STRUCTURED_CHAT_ZERO_SHOT_REACT_DESCRIPTION agent type.\n",
    "\n",
    "tools = [\n",
    "    StockLookupTool(),\n",
    "    AlternativesLookupTool(),\n",
    "]\n",
    "\n",
    "agent_executor = initialize_agent(\n",
    "    tools,\n",
    "    llm,\n",
    "    agent=AgentType.STRUCTURED_CHAT_ZERO_SHOT_REACT_DESCRIPTION,\n",
    "    verbose=True,\n",
    ")"
   ]
  },
  {
   "cell_type": "code",
   "execution_count": null,
   "id": "frequent-quilt",
   "metadata": {},
   "outputs": [],
   "source": [
    "agent_executor.run(\"What are some alternative companies to apple?\")"
   ]
  }
 ],
 "metadata": {
  "kernelspec": {
   "display_name": "Python (chainge)",
   "language": "python",
   "name": "chainge"
  },
  "language_info": {
   "codemirror_mode": {
    "name": "ipython",
    "version": 3
   },
   "file_extension": ".py",
   "mimetype": "text/x-python",
   "name": "python",
   "nbconvert_exporter": "python",
   "pygments_lexer": "ipython3",
   "version": "3.10.9"
  }
 },
 "nbformat": 4,
 "nbformat_minor": 5
}
