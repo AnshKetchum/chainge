{
 "cells": [
  {
   "cell_type": "markdown",
   "id": "coordinated-administrator",
   "metadata": {},
   "source": [
    "## chainge Tutorial\n",
    "\n",
    "In this notebook, we'll put together a basic financial agent using LangChain and tools from chainge."
   ]
  },
  {
   "cell_type": "code",
   "execution_count": null,
   "id": "found-collar",
   "metadata": {},
   "outputs": [],
   "source": [
    "import chainge \n",
    "import langchain\n",
    "\n",
    "#We'll use OpenAI as the standard, but our primary goal is to make chainge focused towards with more open source LLMs\n",
    "from langchain.llms import OpenAI"
   ]
  },
  {
   "cell_type": "markdown",
   "id": "mathematical-astronomy",
   "metadata": {},
   "source": [
    "First, we'll explicitly perform the model / LLM setup so that the rest of the code can be used as-is."
   ]
  },
  {
   "cell_type": "code",
   "execution_count": null,
   "id": "prostate-birthday",
   "metadata": {},
   "outputs": [],
   "source": [
    "!pip install openai "
   ]
  },
  {
   "cell_type": "code",
   "execution_count": null,
   "id": "fatal-seventh",
   "metadata": {},
   "outputs": [],
   "source": [
    "llm = OpenAI(temperature = 0)"
   ]
  },
  {
   "cell_type": "code",
   "execution_count": null,
   "id": "interested-contamination",
   "metadata": {},
   "outputs": [],
   "source": [
    "from langchain.agents import initialize_agent, AgentType"
   ]
  },
  {
   "cell_type": "code",
   "execution_count": null,
   "id": "standing-melissa",
   "metadata": {},
   "outputs": [],
   "source": [
    "from chainge.chain.tools.fundamentals import StockFundamentalsTool, StockFundamentalsProbeTool"
   ]
  },
  {
   "cell_type": "markdown",
   "id": "stock-techno",
   "metadata": {},
   "source": [
    "Let's build a simple agent that can answer basic fundamentals questions"
   ]
  },
  {
   "cell_type": "code",
   "execution_count": null,
   "id": "together-paris",
   "metadata": {},
   "outputs": [],
   "source": [
    "# Structured tools are compatible with the STRUCTURED_CHAT_ZERO_SHOT_REACT_DESCRIPTION agent type.\n",
    "\n",
    "tools = [\n",
    "    StockFundamentalsProbeTool(),\n",
    "    StockFundamentalsTool(),\n",
    "]\n",
    "\n",
    "agent_executor = initialize_agent(\n",
    "    tools,\n",
    "    llm,\n",
    "    agent=AgentType.STRUCTURED_CHAT_ZERO_SHOT_REACT_DESCRIPTION,\n",
    "    verbose=True,\n",
    ")"
   ]
  },
  {
   "cell_type": "code",
   "execution_count": null,
   "id": "precise-contrast",
   "metadata": {},
   "outputs": [],
   "source": [
    "agent_executor.run(\"What is Apple Inc's ten day average trading volume and roa over 5 years?\")"
   ]
  },
  {
   "cell_type": "markdown",
   "id": "defensive-marriage",
   "metadata": {},
   "source": [
    "Let's take a look at some utilies chainge has to offer"
   ]
  },
  {
   "cell_type": "code",
   "execution_count": null,
   "id": "accepted-vanilla",
   "metadata": {},
   "outputs": [],
   "source": [
    "from chainge.chain.tools.utils import StockLookupTool"
   ]
  },
  {
   "cell_type": "code",
   "execution_count": null,
   "id": "agreed-strain",
   "metadata": {},
   "outputs": [],
   "source": [
    "from langchain.agents import initialize_agent, AgentType"
   ]
  },
  {
   "cell_type": "code",
   "execution_count": null,
   "id": "revolutionary-offset",
   "metadata": {},
   "outputs": [],
   "source": [
    "# Structured tools are compatible with the STRUCTURED_CHAT_ZERO_SHOT_REACT_DESCRIPTION agent type.\n",
    "\n",
    "tools = [\n",
    "    StockLookupTool()\n",
    "]\n",
    "\n",
    "agent_executor = initialize_agent(\n",
    "    tools,\n",
    "    llm,\n",
    "    agent=AgentType.STRUCTURED_CHAT_ZERO_SHOT_REACT_DESCRIPTION,\n",
    "    verbose=True,\n",
    ")"
   ]
  },
  {
   "cell_type": "code",
   "execution_count": null,
   "id": "banner-devon",
   "metadata": {},
   "outputs": [],
   "source": [
    "agent_executor.run(\"What are some tickers associated with Apple?\")"
   ]
  },
  {
   "cell_type": "markdown",
   "id": "continuous-charlotte",
   "metadata": {},
   "source": [
    "Competitor Analysis - we've also got some basic support that'll help your AI locate competitors to analyze."
   ]
  },
  {
   "cell_type": "code",
   "execution_count": null,
   "id": "coral-employee",
   "metadata": {},
   "outputs": [],
   "source": [
    "from chainge.chain.tools.utils import AlternativesLookupTool"
   ]
  },
  {
   "cell_type": "code",
   "execution_count": null,
   "id": "racial-spanking",
   "metadata": {},
   "outputs": [],
   "source": [
    "# Structured tools are compatible with the STRUCTURED_CHAT_ZERO_SHOT_REACT_DESCRIPTION agent type.\n",
    "\n",
    "tools = [\n",
    "    StockLookupTool(),\n",
    "    AlternativesLookupTool(),\n",
    "]\n",
    "\n",
    "agent_executor = initialize_agent(\n",
    "    tools,\n",
    "    llm,\n",
    "    agent=AgentType.STRUCTURED_CHAT_ZERO_SHOT_REACT_DESCRIPTION,\n",
    "    verbose=True,\n",
    ")"
   ]
  },
  {
   "cell_type": "code",
   "execution_count": null,
   "id": "frequent-quilt",
   "metadata": {},
   "outputs": [],
   "source": [
    "agent_executor.run(\"What are some alternative companies to apple?\")"
   ]
  }
 ],
 "metadata": {
  "kernelspec": {
   "display_name": "Python (chainge)",
   "language": "python",
   "name": "chainge"
  },
  "language_info": {
   "codemirror_mode": {
    "name": "ipython",
    "version": 3
   },
   "file_extension": ".py",
   "mimetype": "text/x-python",
   "name": "python",
   "nbconvert_exporter": "python",
   "pygments_lexer": "ipython3",
   "version": "3.10.9"
  }
 },
 "nbformat": 4,
 "nbformat_minor": 5
}
