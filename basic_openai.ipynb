{
 "cells": [
  {
   "cell_type": "markdown",
   "id": "coordinated-administrator",
   "metadata": {},
   "source": [
    "## chainge Tutorial\n",
    "\n",
    "In this notebook, we'll put together a basic financial agent using LangChain and tools from chainge."
   ]
  },
  {
   "cell_type": "code",
   "execution_count": 1,
   "id": "found-collar",
   "metadata": {},
   "outputs": [
    {
     "name": "stdout",
     "output_type": "stream",
     "text": [
      "API https://finchain.p.rapidapi.com/api/v1/\n"
     ]
    }
   ],
   "source": [
    "import chainge \n",
    "import langchain\n",
    "\n",
    "#We'll use OpenAI as the standard, but our primary goal is to make chainge focused towards with more open source LLMs\n",
    "from langchain.llms import OpenAI"
   ]
  },
  {
   "cell_type": "markdown",
   "id": "mathematical-astronomy",
   "metadata": {},
   "source": [
    "First, we'll explicitly perform the model / LLM setup so that the rest of the code can be used as-is."
   ]
  },
  {
   "cell_type": "code",
   "execution_count": 2,
   "id": "prostate-birthday",
   "metadata": {},
   "outputs": [
    {
     "name": "stdout",
     "output_type": "stream",
     "text": [
      "Requirement already satisfied: openai in /usr/local/anaconda3/envs/chainge/lib/python3.10/site-packages (1.2.0)\n",
      "Requirement already satisfied: anyio<4,>=3.5.0 in /usr/local/anaconda3/envs/chainge/lib/python3.10/site-packages (from openai) (3.7.1)\n",
      "Requirement already satisfied: distro<2,>=1.7.0 in /usr/local/anaconda3/envs/chainge/lib/python3.10/site-packages (from openai) (1.8.0)\n",
      "Requirement already satisfied: httpx<1,>=0.23.0 in /usr/local/anaconda3/envs/chainge/lib/python3.10/site-packages (from openai) (0.25.1)\n",
      "Requirement already satisfied: pydantic<3,>=1.9.0 in /usr/local/anaconda3/envs/chainge/lib/python3.10/site-packages (from openai) (2.4.2)\n",
      "Requirement already satisfied: tqdm>4 in /usr/local/anaconda3/envs/chainge/lib/python3.10/site-packages (from openai) (4.66.1)\n",
      "Requirement already satisfied: typing-extensions<5,>=4.5 in /usr/local/anaconda3/envs/chainge/lib/python3.10/site-packages (from openai) (4.8.0)\n",
      "Requirement already satisfied: idna>=2.8 in /usr/local/anaconda3/envs/chainge/lib/python3.10/site-packages (from anyio<4,>=3.5.0->openai) (3.4)\n",
      "Requirement already satisfied: sniffio>=1.1 in /usr/local/anaconda3/envs/chainge/lib/python3.10/site-packages (from anyio<4,>=3.5.0->openai) (1.3.0)\n",
      "Requirement already satisfied: exceptiongroup in /usr/local/anaconda3/envs/chainge/lib/python3.10/site-packages (from anyio<4,>=3.5.0->openai) (1.1.3)\n",
      "Requirement already satisfied: certifi in /usr/local/anaconda3/envs/chainge/lib/python3.10/site-packages (from httpx<1,>=0.23.0->openai) (2023.7.22)\n",
      "Requirement already satisfied: httpcore in /usr/local/anaconda3/envs/chainge/lib/python3.10/site-packages (from httpx<1,>=0.23.0->openai) (1.0.1)\n",
      "Requirement already satisfied: annotated-types>=0.4.0 in /usr/local/anaconda3/envs/chainge/lib/python3.10/site-packages (from pydantic<3,>=1.9.0->openai) (0.6.0)\n",
      "Requirement already satisfied: pydantic-core==2.10.1 in /usr/local/anaconda3/envs/chainge/lib/python3.10/site-packages (from pydantic<3,>=1.9.0->openai) (2.10.1)\n",
      "Requirement already satisfied: h11<0.15,>=0.13 in /usr/local/anaconda3/envs/chainge/lib/python3.10/site-packages (from httpcore->httpx<1,>=0.23.0->openai) (0.14.0)\n"
     ]
    }
   ],
   "source": [
    "!pip install openai "
   ]
  },
  {
   "cell_type": "code",
   "execution_count": 3,
   "id": "fatal-seventh",
   "metadata": {},
   "outputs": [],
   "source": [
    "llm = OpenAI(temperature = 0)"
   ]
  },
  {
   "cell_type": "code",
   "execution_count": 4,
   "id": "interested-contamination",
   "metadata": {},
   "outputs": [],
   "source": [
    "from langchain.agents import initialize_agent, AgentType"
   ]
  },
  {
   "cell_type": "code",
   "execution_count": 5,
   "id": "standing-melissa",
   "metadata": {},
   "outputs": [],
   "source": [
    "from chainge.chain.tools.fundamentals import StockFundamentalsTool, StockFundamentalsProbeTool"
   ]
  },
  {
   "cell_type": "markdown",
   "id": "stock-techno",
   "metadata": {},
   "source": [
    "Let's build a simple agent that can answer basic fundamentals questions"
   ]
  },
  {
   "cell_type": "code",
   "execution_count": 6,
   "id": "together-paris",
   "metadata": {},
   "outputs": [],
   "source": [
    "# Structured tools are compatible with the STRUCTURED_CHAT_ZERO_SHOT_REACT_DESCRIPTION agent type.\n",
    "\n",
    "tools = [\n",
    "    StockFundamentalsProbeTool(),\n",
    "    StockFundamentalsTool(),\n",
    "]\n",
    "\n",
    "agent_executor = initialize_agent(\n",
    "    tools,\n",
    "    llm,\n",
    "    agent=AgentType.STRUCTURED_CHAT_ZERO_SHOT_REACT_DESCRIPTION,\n",
    "    verbose=True,\n",
    ")"
   ]
  },
  {
   "cell_type": "code",
   "execution_count": 7,
   "id": "precise-contrast",
   "metadata": {},
   "outputs": [
    {
     "name": "stdout",
     "output_type": "stream",
     "text": [
      "\n",
      "\n",
      "\u001b[1m> Entering new AgentExecutor chain...\u001b[0m\n",
      "\u001b[32;1m\u001b[1;3mAction:\n",
      "```\n",
      "{\n",
      "  \"action\": \"stock_fundamentals_probe\",\n",
      "  \"action_input\": \"\"\n",
      "}\n",
      "```\n",
      "\u001b[0m\n",
      "Observation: \u001b[36;1m\u001b[1;3mHere is a list of all the fundamental attributes: Here are a list of data metrics the stock fundamentals has: 10DayAverageTradingVolume,13WeekPriceReturnDaily,26WeekPriceReturnDaily,3MonthADReturnStd,3MonthAverageTradingVolume,52WeekHigh,52WeekHighDate,52WeekLow,52WeekLowDate,52WeekPriceReturnDaily,5DayPriceReturnDaily,assetTurnoverAnnual,assetTurnoverTTM,beta,bookValuePerShareAnnual,bookValuePerShareQuarterly,bookValueShareGrowth5Y,capexCagr5Y,cashFlowPerShareAnnual,cashFlowPerShareQuarterly,cashFlowPerShareTTM,cashPerSharePerShareAnnual,cashPerSharePerShareQuarterly,currentDividendYieldTTM,currentEv/freeCashFlowAnnual,currentEv/freeCashFlowTTM,currentRatioAnnual,currentRatioQuarterly,dividendGrowthRate5Y,dividendPerShareAnnual,dividendPerShareTTM,dividendYieldIndicatedAnnual,ebitdPerShareAnnual,ebitdPerShareTTM,ebitdaCagr5Y,ebitdaInterimCagr5Y,enterpriseValue,epsAnnual,epsBasicExclExtraItemsAnnual,epsBasicExclExtraItemsTTM,epsExclExtraItemsAnnual,epsExclExtraItemsTTM,epsGrowth3Y,epsGrowth5Y,epsGrowthQuarterlyYoy,epsGrowthTTMYoy,epsInclExtraItemsAnnual,epsInclExtraItemsTTM,epsNormalizedAnnual,epsTTM,focfCagr5Y,grossMargin5Y,grossMarginAnnual,grossMarginTTM,inventoryTurnoverAnnual,inventoryTurnoverTTM,longTermDebt/equityAnnual,longTermDebt/equityQuarterly,marketCapitalization,monthToDatePriceReturnDaily,netIncomeEmployeeAnnual,netIncomeEmployeeTTM,netInterestCoverageAnnual,netInterestCoverageTTM,netMarginGrowth5Y,netProfitMargin5Y,netProfitMarginAnnual,netProfitMarginTTM,operatingMargin5Y,operatingMarginAnnual,operatingMarginTTM,payoutRatioAnnual,payoutRatioTTM,pbAnnual,pbQuarterly,pcfShareAnnual,pcfShareTTM,peAnnual,peBasicExclExtraTTM,peExclExtraAnnual,peExclExtraTTM,peInclExtraTTM,peNormalizedAnnual,peTTM,pfcfShareAnnual,pfcfShareTTM,pretaxMargin5Y,pretaxMarginAnnual,pretaxMarginTTM,priceRelativeToS&P50013Week,priceRelativeToS&P50026Week,priceRelativeToS&P5004Week,priceRelativeToS&P50052Week,priceRelativeToS&P500Ytd,psAnnual,psTTM,ptbvAnnual,ptbvQuarterly,quickRatioAnnual,quickRatioQuarterly,receivablesTurnoverAnnual,receivablesTurnoverTTM,revenueEmployeeAnnual,revenueEmployeeTTM,revenueGrowth3Y,revenueGrowth5Y,revenueGrowthQuarterlyYoy,revenueGrowthTTMYoy,revenuePerShareAnnual,revenuePerShareTTM,revenueShareGrowth5Y,roa5Y,roaRfy,roaTTM,roe5Y,roeRfy,roeTTM,roi5Y,roiAnnual,roiTTM,tangibleBookValuePerShareAnnual,tangibleBookValuePerShareQuarterly,tbvCagr5Y,totalDebt/totalEquityAnnual,totalDebt/totalEquityQuarterly,yearToDatePriceReturnDaily\u001b[0m\n",
      "Thought:\u001b[32;1m\u001b[1;3m I need to use the stock fundamentals tool to answer the question\n",
      "Action:\n",
      "```\n",
      "{\n",
      "  \"action\": \"stock_fundamentals_post_probe_data\",\n",
      "  \"action_input\": {\n",
      "    \"stock_ticker_name\": \"AAPL\",\n",
      "    \"requested_metrics\": \"netIncomeEmployeeAnnual\"\n",
      "  }\n",
      "}\n",
      "```\n",
      "\n",
      "\u001b[0m\n",
      "Observation: \u001b[33;1m\u001b[1;3m{'netIncomeEmployeeAnnual': 0.5914}\u001b[0m\n",
      "Thought:\u001b[32;1m\u001b[1;3m I know what to respond\n",
      "Action:\n",
      "```\n",
      "{\n",
      "  \"action\": \"Final Answer\",\n",
      "  \"action_input\": \"Apple Inc's net income for 2021 is 0.5914.\"\n",
      "}\n",
      "```\u001b[0m\n",
      "\n",
      "\u001b[1m> Finished chain.\u001b[0m\n"
     ]
    },
    {
     "data": {
      "text/plain": [
       "\"Apple Inc's net income for 2021 is 0.5914.\""
      ]
     },
     "execution_count": 7,
     "metadata": {},
     "output_type": "execute_result"
    }
   ],
   "source": [
    "agent_executor.run(\"What is Apple Inc's net income for 2021?\")"
   ]
  },
  {
   "cell_type": "markdown",
   "id": "defensive-marriage",
   "metadata": {},
   "source": [
    "Let's take a look at some utilies chainge has to offer"
   ]
  },
  {
   "cell_type": "code",
   "execution_count": 9,
   "id": "accepted-vanilla",
   "metadata": {},
   "outputs": [],
   "source": [
    "from chainge.chain.tools.utils import StockLookupTool"
   ]
  },
  {
   "cell_type": "code",
   "execution_count": 8,
   "id": "agreed-strain",
   "metadata": {},
   "outputs": [],
   "source": [
    "from langchain.agents import initialize_agent, AgentType"
   ]
  },
  {
   "cell_type": "code",
   "execution_count": 15,
   "id": "revolutionary-offset",
   "metadata": {},
   "outputs": [],
   "source": [
    "# Structured tools are compatible with the STRUCTURED_CHAT_ZERO_SHOT_REACT_DESCRIPTION agent type.\n",
    "\n",
    "tools = [\n",
    "    StockLookupTool()\n",
    "]\n",
    "\n",
    "agent_executor = initialize_agent(\n",
    "    tools,\n",
    "    llm,\n",
    "    agent=AgentType.STRUCTURED_CHAT_ZERO_SHOT_REACT_DESCRIPTION,\n",
    "    verbose=True,\n",
    ")"
   ]
  },
  {
   "cell_type": "code",
   "execution_count": 16,
   "id": "banner-devon",
   "metadata": {},
   "outputs": [
    {
     "name": "stdout",
     "output_type": "stream",
     "text": [
      "\n",
      "\n",
      "\u001b[1m> Entering new AgentExecutor chain...\u001b[0m\n",
      "\u001b[32;1m\u001b[1;3mAction:\n",
      "```\n",
      "{\n",
      "  \"action\": \"keyword_to_ticker\",\n",
      "  \"action_input\": \"apple\"\n",
      "}\n",
      "```\n",
      "\u001b[0mLooking for  Here is a list of stocks that match apple. Each is in the format (description, display symbol, ticker, type of stock): (Apple, A19C0M.HA, A19C0M.HA, )(Apple, A3K78V.MU, A3K78V.MU, )(Apple, A2R7JV.BE, A2R7JV.BE, )(Apple, APCT.DU, APCT.DU, )(Apple, A3KUT3.DU, A3KUT3.DU, )(Apple, A3LHSN.DU, A3LHSN.DU, )(Apple, A3K78W.MU, A3K78W.MU, )(Apple, A1HKKY.DU, A1HKKY.DU, )(Apple, A3LHSP.MU, A3LHSP.MU, )(Apple, APC5.DU, APC5.DU, )(Apple, A3K78T.MU, A3K78T.MU, )(Apple, A3LHSS.MU, A3LHSS.MU, )(Apple, A3LHSN.BE, A3LHSN.BE, )(Apple, A2R7JV.MU, A2R7JV.MU, )(Apple, A3LHSQ.MU, A3LHSQ.MU, )(Apple, A3KUT5.DU, A3KUT5.DU, )(Apple, A3K78V.BE, A3K78V.BE, )(Apple, A3K78U.BE, A3K78U.BE, )(Apple, A3KUT6.DU, A3KUT6.DU, )(Apple, A3LHSR.DU, A3LHSR.DU, )(Apple, A2R7JT.DU, A2R7JT.DU, )(Apple, APC5.MU, APC5.MU, )\n",
      "\n",
      "Observation: \u001b[36;1m\u001b[1;3mHere is a list of stocks that match apple. Each is in the format (description, display symbol, ticker, type of stock): (Apple, A19C0M.HA, A19C0M.HA, )(Apple, A3K78V.MU, A3K78V.MU, )(Apple, A2R7JV.BE, A2R7JV.BE, )(Apple, APCT.DU, APCT.DU, )(Apple, A3KUT3.DU, A3KUT3.DU, )(Apple, A3LHSN.DU, A3LHSN.DU, )(Apple, A3K78W.MU, A3K78W.MU, )(Apple, A1HKKY.DU, A1HKKY.DU, )(Apple, A3LHSP.MU, A3LHSP.MU, )(Apple, APC5.DU, APC5.DU, )(Apple, A3K78T.MU, A3K78T.MU, )(Apple, A3LHSS.MU, A3LHSS.MU, )(Apple, A3LHSN.BE, A3LHSN.BE, )(Apple, A2R7JV.MU, A2R7JV.MU, )(Apple, A3LHSQ.MU, A3LHSQ.MU, )(Apple, A3KUT5.DU, A3KUT5.DU, )(Apple, A3K78V.BE, A3K78V.BE, )(Apple, A3K78U.BE, A3K78U.BE, )(Apple, A3KUT6.DU, A3KUT6.DU, )(Apple, A3LHSR.DU, A3LHSR.DU, )(Apple, A2R7JT.DU, A2R7JT.DU, )(Apple, APC5.MU, APC5.MU, )\u001b[0m\n",
      "Thought:\u001b[32;1m\u001b[1;3m I have the list of tickers\n",
      "Action:\n",
      "```\n",
      "{\n",
      "  \"action\": \"Final Answer\",\n",
      "  \"action_input\": \"The tickers associated with Apple are A19C0M.HA, A3K78V.MU, A2R7JV.BE, APCT.DU, A3KUT3.DU, A3K78W.MU, A1HKKY.DU, A3LHSP.MU, APC5.DU, A3K78T.MU, A3LHSS.MU, A3LHSN.BE, A2R7JV.MU, A3LHSQ.MU, A3KUT5.DU, A3K78V.BE, A3K78U.BE, A3KUT6.DU, A3LHSR.DU, A2R7JT.DU, and APC5.MU.\"\n",
      "}\n",
      "```\n",
      "\n",
      "\u001b[0m\n",
      "\n",
      "\u001b[1m> Finished chain.\u001b[0m\n"
     ]
    },
    {
     "data": {
      "text/plain": [
       "'The tickers associated with Apple are A19C0M.HA, A3K78V.MU, A2R7JV.BE, APCT.DU, A3KUT3.DU, A3K78W.MU, A1HKKY.DU, A3LHSP.MU, APC5.DU, A3K78T.MU, A3LHSS.MU, A3LHSN.BE, A2R7JV.MU, A3LHSQ.MU, A3KUT5.DU, A3K78V.BE, A3K78U.BE, A3KUT6.DU, A3LHSR.DU, A2R7JT.DU, and APC5.MU.'"
      ]
     },
     "execution_count": 16,
     "metadata": {},
     "output_type": "execute_result"
    }
   ],
   "source": [
    "agent_executor.run(\"What are some tickers associated with Apple?\")"
   ]
  },
  {
   "cell_type": "markdown",
   "id": "continuous-charlotte",
   "metadata": {},
   "source": [
    "Competitor Analysis - we've also got some basic support that'll help your AI locate competitors to analyze."
   ]
  },
  {
   "cell_type": "code",
   "execution_count": 7,
   "id": "coral-employee",
   "metadata": {},
   "outputs": [],
   "source": [
    "from chainge.chain.tools.utils import AlternativesLookupTool\n",
    "from chainge.chain.tools.fundamentals import StockFinancialReportsTool\n"
   ]
  },
  {
   "cell_type": "code",
   "execution_count": 10,
   "id": "racial-spanking",
   "metadata": {},
   "outputs": [],
   "source": [
    "# Structured tools are compatible with the STRUCTURED_CHAT_ZERO_SHOT_REACT_DESCRIPTION agent type.\n",
    "\n",
    "tools = [\n",
    "    StockLookupTool(),\n",
    "    AlternativesLookupTool(),\n",
    "    StockFinancialReportsTool()\n",
    "]\n",
    "\n",
    "agent_executor = initialize_agent(\n",
    "    tools,\n",
    "    llm,\n",
    "    agent=AgentType.STRUCTURED_CHAT_ZERO_SHOT_REACT_DESCRIPTION,\n",
    "    verbose=True,\n",
    ")"
   ]
  },
  {
   "cell_type": "code",
   "execution_count": 11,
   "id": "frequent-quilt",
   "metadata": {},
   "outputs": [
    {
     "name": "stdout",
     "output_type": "stream",
     "text": [
      "\n",
      "\n",
      "\u001b[1m> Entering new AgentExecutor chain...\u001b[0m\n",
      "\u001b[32;1m\u001b[1;3mAction:\n",
      "```\n",
      "{\n",
      "  \"action\": \"company_stocks_financial_reports_retrieval\",\n",
      "  \"action_input\": \"AAPL\"\n",
      "}\n",
      "```\n",
      "\u001b[0m\n",
      "Observation: \u001b[38;5;200m\u001b[1;3mHere is are a list of values in the latest financial report. They are in the format: (concept, unit / currency, label, value): (us-gaap_AvailableForSaleSecuritiesDebtSecuritiesCurrent, _usd, Available-for-sale Securities, Debt Securities, Current, 14359000000)(us-gaap_AvailableForSaleSecuritiesDebtSecuritiesNoncurrent, _usd, Available-for-sale Securities, Debt Securities, Noncurrent, 25391000000)(us-gaap_CashAndCashEquivalentsAtCarryingValue, _usd, Cash and cash equivalents, 11261000000)(us-gaap_AccountsPayableCurrent, _usd, Accounts Payable, Current, 12015000000)(us-gaap_AccruedLiabilitiesCurrent, _usd, Total accrued expenses, 5723000000)(us-gaap_AccountsReceivableNetCurrent, _usd, Accounts receivable, less allowances of $55 and $52, respectively, 5510000000)(us-gaap_AccumulatedOtherComprehensiveIncomeLossNetOfTax, _usd, Accumulated other comprehensive (loss)/income, -46000000)(us-gaap_Assets, _usd, Consolidated assets, 75183000000)(us-gaap_AssetsCurrent, _usd, Total current assets, 41678000000)(us-gaap_CommonStockValue, _usd, Common stock, no par value; 1,800,000,000 shares authorized; 915,970,050 and 899,805,500 shares issued and outstanding, respectively, 10668000000)(us-gaap_DeferredRevenueCurrent, _usd, Deferred Revenue, Current, 2984000000)(us-gaap_DeferredRevenueNoncurrent, _usd, Deferred revenue - non-current, 1139000000)(us-gaap_DeferredTaxAssetsNetCurrent, _usd, Deferred tax assets, 1636000000)(us-gaap_Goodwill, _usd, Goodwill, 741000000)(us-gaap_IntangibleAssetsNetExcludingGoodwill, _usd, Acquired intangible assets, net, 342000000)(us-gaap_InventoryNet, _usd, Inventories, 1051000000)(us-gaap_Liabilities, _usd, Total liabilities, 27392000000)(us-gaap_LiabilitiesAndStockholdersEquity, _usd, Total liabilities and shareholders' equity, 75183000000)(us-gaap_LiabilitiesCurrent, _usd, Total current liabilities, 20722000000)(us-gaap_NontradeReceivablesCurrent, _usd, Vendor non-trade receivables, 4414000000)(us-gaap_OtherAssetsCurrent, _usd, Other Assets, Current, 3447000000)(us-gaap_OtherAssetsNoncurrent, _usd, Other Assets, Noncurrent, 2263000000)(us-gaap_OtherLiabilitiesNoncurrent, _usd, Total other non-current liabilities, 5531000000)(us-gaap_RetainedEarningsAccumulatedDeficit, _usd, Retained Earnings (Accumulated Deficit), 37169000000)(us-gaap_StockholdersEquity, _usd, Total shareholders' equity, 47791000000)(aapl_PropertyPlantAndEquipmentAndCapitalizedSoftwareNet, _usd, Tangible assets that are held by an entity for use in the production or supply of goods and services, for rental to others, or for administrative purposes and that are expected to provide economic benefit for more than one year; net of accumulated depreciation. Examples include land, buildings, and production equipment. Also includes software programs or applications for internal use (that is, not to be sold, leased or otherwise marketed to others) that qualify for capitalization., 4768000000)(us-gaap_AdjustmentsToAdditionalPaidInCapitalSharebasedCompensationRequisiteServicePeriodRecognitionValue, _usd, Adjustments to Additional Paid in Capital, Share-based Compensation, Requisite Service Period Recognition, Value, 876000000)(us-gaap_AdjustmentsToAdditionalPaidInCapitalTaxEffectFromShareBasedCompensation, _usd, Tax benefit from employee stock plan awards, 879000000)(us-gaap_ComprehensiveIncomeNetOfTax, _usd, Total comprehensive income, 13890000000)(us-gaap_CostOfGoodsAndServicesSold, _usd, Cost of Goods and Services Sold, 39541000000)(us-gaap_EarningsPerShareBasic, _usd_/_shares, Basic (in US dollars per share), 15)(us-gaap_EarningsPerShareDiluted, _usd_/_shares, Diluted (in US dollars per share), 15)(us-gaap_GrossProfit, _usd, Gross margin, 25684000000)(us-gaap_IncomeLossFromContinuingOperationsBeforeIncomeTaxesMinorityInterestAndIncomeLossFromEquityMethodInvestments, _usd, Income before provision for income taxes, 18540000000)(us-gaap_IncomeTaxExpenseBenefit, _usd, Provision for income taxes, 4527000000)(us-gaap_NetIncomeLoss, _usd, Net income, 14013000000)(us-gaap_NonoperatingIncomeExpense, _usd, Other income and expense, 155000000)(us-gaap_OperatingExpenses, _usd, Total operating expenses, 7299000000)(us-gaap_OperatingIncomeLoss, _usd, Total operating income, 18385000000)(us-gaap_OtherComprehensiveIncomeAvailableForSaleSecuritiesAdjustmentNetOfTaxPeriodIncreaseDecrease, _usd, Change in fair value of available-for-sale securities, net of tax, 123000000)(us-gaap_OtherComprehensiveIncomeDerivativesQualifyingAsHedgesNetOfTaxPeriodIncreaseDecrease, _usd, Change in unrealized gain on derivative instruments, net of tax, -253000000)(us-gaap_OtherComprehensiveIncomeForeignCurrencyTransactionAndTranslationAdjustmentNetOfTaxPeriodIncreaseDecrease, _usd, Change in foreign currency translation, 7000000)(us-gaap_ResearchAndDevelopmentExpense, _usd, Research and Development Expense, 1782000000)(us-gaap_SalesRevenueNet, _usd, Sales Revenue, Net, 65225000000)(us-gaap_SellingGeneralAndAdministrativeExpense, _usd, Selling, General and Administrative Expense, 5517000000)(us-gaap_WeightedAverageNumberOfDilutedSharesOutstanding, shares, Diluted, 924712000)(us-gaap_WeightedAverageNumberOfSharesOutstandingBasic, shares, Weighted-average shares outstanding, 909461000)(aapl_StockIssuedDuringPeriodValueShareBasedCompensationNetOfSharesWithheldForTaxes, _usd, Value of stock issued during the period as a result of any share-based compensation plan other than an employee stock ownership plan (ESOP), net of shares withheld for employee taxes., 506000000)(us-gaap_CashAndCashEquivalentsPeriodIncreaseDecrease, _usd, Increase/(decrease) in cash and cash equivalents, 5998000000)(us-gaap_DeferredIncomeTaxExpenseBenefit, _usd, Deferred income tax expense, 1440000000)(us-gaap_DepreciationAmortizationAndAccretionNet, _usd, Depreciation, amortization and accretion, 1027000000)(us-gaap_EmployeeServiceShareBasedCompensationCashFlowEffectCashUsedToSettleAwards, _usd, Taxes paid related to net share settlement of equity awards, -406000000)(us-gaap_ExcessTaxBenefitFromShareBasedCompensationFinancingActivities, _usd, Excess tax benefits from stock-based compensation, 751000000)(us-gaap_GainLossOnSaleOfPropertyPlantEquipment, _usd, Loss on disposition of property, plant and equipment, -24000000)(us-gaap_IncomeTaxesPaidNet, _usd, Cash paid for income taxes, net, 2697000000)(us-gaap_IncreaseDecreaseInAccountsPayable, _usd, Increase (Decrease) in Accounts Payable, 6307000000)(us-gaap_IncreaseDecreaseInAccountsReceivable, _usd, Accounts receivable, net, 2142000000)(us-gaap_IncreaseDecreaseInDeferredRevenue, _usd, Increase (Decrease) in Deferred Revenue, 1217000000)(us-gaap_IncreaseDecreaseInInventories, _usd, Increase (Decrease) in Inventories, 596000000)(us-gaap_IncreaseDecreaseInOtherOperatingAssets, _usd, Increase (Decrease) in Other Operating Assets, 120000000)(us-gaap_IncreaseDecreaseInOtherOperatingLiabilities, _usd, Other liabilities, 778000000)(us-gaap_IncreaseDecreaseInOtherReceivables, _usd, Increase (Decrease) in Other Receivables, 2718000000)(us-gaap_NetCashProvidedByUsedInFinancingActivities, _usd, Cash generated by financing activities, 1257000000)(us-gaap_NetCashProvidedByUsedInInvestingActivities, _usd, Cash used in investing activities, -13854000000)(us-gaap_NetCashProvidedByUsedInOperatingActivities, _usd, Cash generated by operating activities, 18595000000)(us-gaap_NetIncomeLoss, _usd, Net income, 14013000000)(us-gaap_PaymentsForProceedsFromOtherInvestingActivities, _usd, Payments for (Proceeds from) Other Investing Activities, 2000000)(us-gaap_PaymentsToAcquireAvailableForSaleSecuritiesDebt, _usd, Purchases of marketable securities, 57793000000)(us-gaap_PaymentsToAcquireBusinessesNetOfCashAcquired, _usd, Business acquisitions, net of cash acquired, 638000000)(us-gaap_PaymentsToAcquireIntangibleAssets, _usd, Payments for acquisition of intangible assets, 116000000)(us-gaap_PaymentsToAcquireOtherInvestments, _usd, Purchases of other long-term investments, 18000000)(us-gaap_PaymentsToAcquireProductiveAssets, _usd, Cash payments for capital asset purchases, 2005000000)(us-gaap_ProceedsFromIssuanceOfCommonStock, _usd, Proceeds from issuance of common stock, 912000000)(us-gaap_ProceedsFromMaturitiesPrepaymentsAndCallsOfAvailableForSaleSecurities, _usd, Proceeds from maturities of marketable securities, 24930000000)(us-gaap_ProceedsFromSaleOfAvailableForSaleSecuritiesDebt, _usd, Proceeds from sales of marketable securities, 21788000000)(us-gaap_ShareBasedCompensation, _usd, Stock-based compensation expense, 879000000)(aapl_IncreaseDecreaseOtherCurrentAssets, _usd, The net change during the reporting period in other current assets., 1514000000)\u001b[0m\n"
     ]
    },
    {
     "name": "stdout",
     "output_type": "stream",
     "text": [
      "Thought:\u001b[32;1m\u001b[1;3m I have the financial report, now I need to provide a response\n",
      "Action:\n",
      "```\n",
      "{\n",
      "  \"action\": \"Final Answer\",\n",
      "  \"action_input\": \"Apple's 10K report shows a net income of $14.01 billion, total liabilities of $27.39 billion, and total assets of $75.18 billion. The report also shows that Apple has issued 915.97 million shares of common stock, with a value of $10.67 billion.\"\n",
      "}\n",
      "```\u001b[0m\n",
      "\n",
      "\u001b[1m> Finished chain.\u001b[0m\n"
     ]
    },
    {
     "data": {
      "text/plain": [
       "\"Apple's 10K report shows a net income of $14.01 billion, total liabilities of $27.39 billion, and total assets of $75.18 billion. The report also shows that Apple has issued 915.97 million shares of common stock, with a value of $10.67 billion.\""
      ]
     },
     "execution_count": 11,
     "metadata": {},
     "output_type": "execute_result"
    }
   ],
   "source": [
    "agent_executor.run(\"Imagine you are a financial analyst. How does Apple's 10K look?\")"
   ]
  },
  {
   "cell_type": "code",
   "execution_count": 6,
   "id": "rubber-hormone",
   "metadata": {},
   "outputs": [
    {
     "name": "stdout",
     "output_type": "stream",
     "text": [
      "Collecting redis\n",
      "  Downloading redis-5.0.1-py3-none-any.whl (250 kB)\n",
      "\u001b[2K     \u001b[38;2;114;156;31m━━━━━━━━━━━━━━━━━━━━━━━━━━━━━━━━━━━━━━━\u001b[0m \u001b[32m250.3/250.3 kB\u001b[0m \u001b[31m3.3 MB/s\u001b[0m eta \u001b[36m0:00:00\u001b[0m MB/s\u001b[0m eta \u001b[36m0:00:01\u001b[0m\n",
      "\u001b[?25hRequirement already satisfied: async-timeout>=4.0.2 in /usr/local/anaconda3/lib/python3.10/site-packages (from redis) (4.0.3)\n",
      "Installing collected packages: redis\n",
      "Successfully installed redis-5.0.1\n"
     ]
    }
   ],
   "source": [
    "import sys\n",
    "!{sys.executable} -m pip install redis"
   ]
  },
  {
   "cell_type": "code",
   "execution_count": 8,
   "id": "bright-shape",
   "metadata": {},
   "outputs": [],
   "source": [
    "import redis"
   ]
  },
  {
   "cell_type": "markdown",
   "id": "humanitarian-vinyl",
   "metadata": {},
   "source": [
    "# Testing Memory"
   ]
  },
  {
   "cell_type": "code",
   "execution_count": 12,
   "id": "metropolitan-bunch",
   "metadata": {},
   "outputs": [],
   "source": [
    "from chainge.chain.memory.quick import memory, message_history\n",
    "from langchain.agents import ZeroShotAgent, Tool, AgentExecutor\n",
    "from langchain.memory import ConversationBufferMemory\n",
    "from langchain.memory.chat_memory import ChatMessageHistory\n",
    "from langchain.memory.chat_message_histories import RedisChatMessageHistory\n",
    "from langchain.llms import OpenAI\n",
    "from langchain.chains import LLMChain\n",
    "from langchain.utilities import GoogleSearchAPIWrapper"
   ]
  },
  {
   "cell_type": "code",
   "execution_count": 15,
   "id": "christian-ranking",
   "metadata": {},
   "outputs": [],
   "source": [
    "prefix = \"\"\"Have a conversation with a human, answering the following questions as best you can. You have access to the following tools:\"\"\"\n",
    "suffix = \"\"\"Begin!\"\n",
    "\n",
    "{chat_history}\n",
    "Question: {input}\n",
    "{agent_scratchpad}\"\"\"\n",
    "tools = []\n",
    "prompt = ZeroShotAgent.create_prompt(\n",
    "    tools,\n",
    "    prefix=prefix,\n",
    "    suffix=suffix,\n",
    "    input_variables=[\"input\", \"chat_history\", \"agent_scratchpad\"],\n",
    ")\n",
    "\n",
    "llm_chain = LLMChain(llm=OpenAI(temperature=0), prompt=prompt)\n",
    "agent = ZeroShotAgent(llm_chain=llm_chain, tools=tools, verbose=True)\n",
    "agent_chain = AgentExecutor.from_agent_and_tools(\n",
    "    agent=agent, tools=tools, verbose=True, memory=memory\n",
    ")"
   ]
  },
  {
   "cell_type": "code",
   "execution_count": 16,
   "id": "pacific-spending",
   "metadata": {},
   "outputs": [
    {
     "ename": "ConnectionError",
     "evalue": "Error 61 connecting to localhost:6379. Connection refused.",
     "output_type": "error",
     "traceback": [
      "\u001b[0;31m---------------------------------------------------------------------------\u001b[0m",
      "\u001b[0;31mConnectionRefusedError\u001b[0m                    Traceback (most recent call last)",
      "File \u001b[0;32m/usr/local/anaconda3/lib/python3.10/site-packages/redis/connection.py:264\u001b[0m, in \u001b[0;36mAbstractConnection.connect\u001b[0;34m(self)\u001b[0m\n\u001b[1;32m    263\u001b[0m \u001b[38;5;28;01mtry\u001b[39;00m:\n\u001b[0;32m--> 264\u001b[0m     sock \u001b[38;5;241m=\u001b[39m \u001b[38;5;28;43mself\u001b[39;49m\u001b[38;5;241;43m.\u001b[39;49m\u001b[43mretry\u001b[49m\u001b[38;5;241;43m.\u001b[39;49m\u001b[43mcall_with_retry\u001b[49m\u001b[43m(\u001b[49m\n\u001b[1;32m    265\u001b[0m \u001b[43m        \u001b[49m\u001b[38;5;28;43;01mlambda\u001b[39;49;00m\u001b[43m:\u001b[49m\u001b[43m \u001b[49m\u001b[38;5;28;43mself\u001b[39;49m\u001b[38;5;241;43m.\u001b[39;49m\u001b[43m_connect\u001b[49m\u001b[43m(\u001b[49m\u001b[43m)\u001b[49m\u001b[43m,\u001b[49m\u001b[43m \u001b[49m\u001b[38;5;28;43;01mlambda\u001b[39;49;00m\u001b[43m \u001b[49m\u001b[43merror\u001b[49m\u001b[43m:\u001b[49m\u001b[43m \u001b[49m\u001b[38;5;28;43mself\u001b[39;49m\u001b[38;5;241;43m.\u001b[39;49m\u001b[43mdisconnect\u001b[49m\u001b[43m(\u001b[49m\u001b[43merror\u001b[49m\u001b[43m)\u001b[49m\n\u001b[1;32m    266\u001b[0m \u001b[43m    \u001b[49m\u001b[43m)\u001b[49m\n\u001b[1;32m    267\u001b[0m \u001b[38;5;28;01mexcept\u001b[39;00m socket\u001b[38;5;241m.\u001b[39mtimeout:\n",
      "File \u001b[0;32m/usr/local/anaconda3/lib/python3.10/site-packages/redis/retry.py:46\u001b[0m, in \u001b[0;36mRetry.call_with_retry\u001b[0;34m(self, do, fail)\u001b[0m\n\u001b[1;32m     45\u001b[0m \u001b[38;5;28;01mtry\u001b[39;00m:\n\u001b[0;32m---> 46\u001b[0m     \u001b[38;5;28;01mreturn\u001b[39;00m \u001b[43mdo\u001b[49m\u001b[43m(\u001b[49m\u001b[43m)\u001b[49m\n\u001b[1;32m     47\u001b[0m \u001b[38;5;28;01mexcept\u001b[39;00m \u001b[38;5;28mself\u001b[39m\u001b[38;5;241m.\u001b[39m_supported_errors \u001b[38;5;28;01mas\u001b[39;00m error:\n",
      "File \u001b[0;32m/usr/local/anaconda3/lib/python3.10/site-packages/redis/connection.py:265\u001b[0m, in \u001b[0;36mAbstractConnection.connect.<locals>.<lambda>\u001b[0;34m()\u001b[0m\n\u001b[1;32m    263\u001b[0m \u001b[38;5;28;01mtry\u001b[39;00m:\n\u001b[1;32m    264\u001b[0m     sock \u001b[38;5;241m=\u001b[39m \u001b[38;5;28mself\u001b[39m\u001b[38;5;241m.\u001b[39mretry\u001b[38;5;241m.\u001b[39mcall_with_retry(\n\u001b[0;32m--> 265\u001b[0m         \u001b[38;5;28;01mlambda\u001b[39;00m: \u001b[38;5;28;43mself\u001b[39;49m\u001b[38;5;241;43m.\u001b[39;49m\u001b[43m_connect\u001b[49m\u001b[43m(\u001b[49m\u001b[43m)\u001b[49m, \u001b[38;5;28;01mlambda\u001b[39;00m error: \u001b[38;5;28mself\u001b[39m\u001b[38;5;241m.\u001b[39mdisconnect(error)\n\u001b[1;32m    266\u001b[0m     )\n\u001b[1;32m    267\u001b[0m \u001b[38;5;28;01mexcept\u001b[39;00m socket\u001b[38;5;241m.\u001b[39mtimeout:\n",
      "File \u001b[0;32m/usr/local/anaconda3/lib/python3.10/site-packages/redis/connection.py:627\u001b[0m, in \u001b[0;36mConnection._connect\u001b[0;34m(self)\u001b[0m\n\u001b[1;32m    626\u001b[0m \u001b[38;5;28;01mif\u001b[39;00m err \u001b[38;5;129;01mis\u001b[39;00m \u001b[38;5;129;01mnot\u001b[39;00m \u001b[38;5;28;01mNone\u001b[39;00m:\n\u001b[0;32m--> 627\u001b[0m     \u001b[38;5;28;01mraise\u001b[39;00m err\n\u001b[1;32m    628\u001b[0m \u001b[38;5;28;01mraise\u001b[39;00m \u001b[38;5;167;01mOSError\u001b[39;00m(\u001b[38;5;124m\"\u001b[39m\u001b[38;5;124msocket.getaddrinfo returned an empty list\u001b[39m\u001b[38;5;124m\"\u001b[39m)\n",
      "File \u001b[0;32m/usr/local/anaconda3/lib/python3.10/site-packages/redis/connection.py:615\u001b[0m, in \u001b[0;36mConnection._connect\u001b[0;34m(self)\u001b[0m\n\u001b[1;32m    614\u001b[0m \u001b[38;5;66;03m# connect\u001b[39;00m\n\u001b[0;32m--> 615\u001b[0m \u001b[43msock\u001b[49m\u001b[38;5;241;43m.\u001b[39;49m\u001b[43mconnect\u001b[49m\u001b[43m(\u001b[49m\u001b[43msocket_address\u001b[49m\u001b[43m)\u001b[49m\n\u001b[1;32m    617\u001b[0m \u001b[38;5;66;03m# set the socket_timeout now that we're connected\u001b[39;00m\n",
      "\u001b[0;31mConnectionRefusedError\u001b[0m: [Errno 61] Connection refused",
      "\nDuring handling of the above exception, another exception occurred:\n",
      "\u001b[0;31mConnectionError\u001b[0m                           Traceback (most recent call last)",
      "Cell \u001b[0;32mIn[16], line 1\u001b[0m\n\u001b[0;32m----> 1\u001b[0m \u001b[43magent_chain\u001b[49m\u001b[38;5;241;43m.\u001b[39;49m\u001b[43mrun\u001b[49m\u001b[43m(\u001b[49m\u001b[38;5;28;43minput\u001b[39;49m\u001b[38;5;241;43m=\u001b[39;49m\u001b[38;5;124;43m\"\u001b[39;49m\u001b[38;5;124;43mHow many people live in canada?\u001b[39;49m\u001b[38;5;124;43m\"\u001b[39;49m\u001b[43m)\u001b[49m\n",
      "File \u001b[0;32m/usr/local/anaconda3/lib/python3.10/site-packages/langchain/chains/base.py:510\u001b[0m, in \u001b[0;36mChain.run\u001b[0;34m(self, callbacks, tags, metadata, *args, **kwargs)\u001b[0m\n\u001b[1;32m    505\u001b[0m     \u001b[38;5;28;01mreturn\u001b[39;00m \u001b[38;5;28mself\u001b[39m(args[\u001b[38;5;241m0\u001b[39m], callbacks\u001b[38;5;241m=\u001b[39mcallbacks, tags\u001b[38;5;241m=\u001b[39mtags, metadata\u001b[38;5;241m=\u001b[39mmetadata)[\n\u001b[1;32m    506\u001b[0m         _output_key\n\u001b[1;32m    507\u001b[0m     ]\n\u001b[1;32m    509\u001b[0m \u001b[38;5;28;01mif\u001b[39;00m kwargs \u001b[38;5;129;01mand\u001b[39;00m \u001b[38;5;129;01mnot\u001b[39;00m args:\n\u001b[0;32m--> 510\u001b[0m     \u001b[38;5;28;01mreturn\u001b[39;00m \u001b[38;5;28;43mself\u001b[39;49m\u001b[43m(\u001b[49m\u001b[43mkwargs\u001b[49m\u001b[43m,\u001b[49m\u001b[43m \u001b[49m\u001b[43mcallbacks\u001b[49m\u001b[38;5;241;43m=\u001b[39;49m\u001b[43mcallbacks\u001b[49m\u001b[43m,\u001b[49m\u001b[43m \u001b[49m\u001b[43mtags\u001b[49m\u001b[38;5;241;43m=\u001b[39;49m\u001b[43mtags\u001b[49m\u001b[43m,\u001b[49m\u001b[43m \u001b[49m\u001b[43mmetadata\u001b[49m\u001b[38;5;241;43m=\u001b[39;49m\u001b[43mmetadata\u001b[49m\u001b[43m)\u001b[49m[\n\u001b[1;32m    511\u001b[0m         _output_key\n\u001b[1;32m    512\u001b[0m     ]\n\u001b[1;32m    514\u001b[0m \u001b[38;5;28;01mif\u001b[39;00m \u001b[38;5;129;01mnot\u001b[39;00m kwargs \u001b[38;5;129;01mand\u001b[39;00m \u001b[38;5;129;01mnot\u001b[39;00m args:\n\u001b[1;32m    515\u001b[0m     \u001b[38;5;28;01mraise\u001b[39;00m \u001b[38;5;167;01mValueError\u001b[39;00m(\n\u001b[1;32m    516\u001b[0m         \u001b[38;5;124m\"\u001b[39m\u001b[38;5;124m`run` supported with either positional arguments or keyword arguments,\u001b[39m\u001b[38;5;124m\"\u001b[39m\n\u001b[1;32m    517\u001b[0m         \u001b[38;5;124m\"\u001b[39m\u001b[38;5;124m but none were provided.\u001b[39m\u001b[38;5;124m\"\u001b[39m\n\u001b[1;32m    518\u001b[0m     )\n",
      "File \u001b[0;32m/usr/local/anaconda3/lib/python3.10/site-packages/langchain/chains/base.py:286\u001b[0m, in \u001b[0;36mChain.__call__\u001b[0;34m(self, inputs, return_only_outputs, callbacks, tags, metadata, run_name, include_run_info)\u001b[0m\n\u001b[1;32m    250\u001b[0m \u001b[38;5;28;01mdef\u001b[39;00m \u001b[38;5;21m__call__\u001b[39m(\n\u001b[1;32m    251\u001b[0m     \u001b[38;5;28mself\u001b[39m,\n\u001b[1;32m    252\u001b[0m     inputs: Union[Dict[\u001b[38;5;28mstr\u001b[39m, Any], Any],\n\u001b[0;32m   (...)\u001b[0m\n\u001b[1;32m    259\u001b[0m     include_run_info: \u001b[38;5;28mbool\u001b[39m \u001b[38;5;241m=\u001b[39m \u001b[38;5;28;01mFalse\u001b[39;00m,\n\u001b[1;32m    260\u001b[0m ) \u001b[38;5;241m-\u001b[39m\u001b[38;5;241m>\u001b[39m Dict[\u001b[38;5;28mstr\u001b[39m, Any]:\n\u001b[1;32m    261\u001b[0m \u001b[38;5;250m    \u001b[39m\u001b[38;5;124;03m\"\"\"Execute the chain.\u001b[39;00m\n\u001b[1;32m    262\u001b[0m \n\u001b[1;32m    263\u001b[0m \u001b[38;5;124;03m    Args:\u001b[39;00m\n\u001b[0;32m   (...)\u001b[0m\n\u001b[1;32m    284\u001b[0m \u001b[38;5;124;03m            `Chain.output_keys`.\u001b[39;00m\n\u001b[1;32m    285\u001b[0m \u001b[38;5;124;03m    \"\"\"\u001b[39;00m\n\u001b[0;32m--> 286\u001b[0m     inputs \u001b[38;5;241m=\u001b[39m \u001b[38;5;28;43mself\u001b[39;49m\u001b[38;5;241;43m.\u001b[39;49m\u001b[43mprep_inputs\u001b[49m\u001b[43m(\u001b[49m\u001b[43minputs\u001b[49m\u001b[43m)\u001b[49m\n\u001b[1;32m    287\u001b[0m     callback_manager \u001b[38;5;241m=\u001b[39m CallbackManager\u001b[38;5;241m.\u001b[39mconfigure(\n\u001b[1;32m    288\u001b[0m         callbacks,\n\u001b[1;32m    289\u001b[0m         \u001b[38;5;28mself\u001b[39m\u001b[38;5;241m.\u001b[39mcallbacks,\n\u001b[0;32m   (...)\u001b[0m\n\u001b[1;32m    294\u001b[0m         \u001b[38;5;28mself\u001b[39m\u001b[38;5;241m.\u001b[39mmetadata,\n\u001b[1;32m    295\u001b[0m     )\n\u001b[1;32m    296\u001b[0m     new_arg_supported \u001b[38;5;241m=\u001b[39m inspect\u001b[38;5;241m.\u001b[39msignature(\u001b[38;5;28mself\u001b[39m\u001b[38;5;241m.\u001b[39m_call)\u001b[38;5;241m.\u001b[39mparameters\u001b[38;5;241m.\u001b[39mget(\u001b[38;5;124m\"\u001b[39m\u001b[38;5;124mrun_manager\u001b[39m\u001b[38;5;124m\"\u001b[39m)\n",
      "File \u001b[0;32m/usr/local/anaconda3/lib/python3.10/site-packages/langchain/chains/base.py:441\u001b[0m, in \u001b[0;36mChain.prep_inputs\u001b[0;34m(self, inputs)\u001b[0m\n\u001b[1;32m    439\u001b[0m     inputs \u001b[38;5;241m=\u001b[39m {\u001b[38;5;28mlist\u001b[39m(_input_keys)[\u001b[38;5;241m0\u001b[39m]: inputs}\n\u001b[1;32m    440\u001b[0m \u001b[38;5;28;01mif\u001b[39;00m \u001b[38;5;28mself\u001b[39m\u001b[38;5;241m.\u001b[39mmemory \u001b[38;5;129;01mis\u001b[39;00m \u001b[38;5;129;01mnot\u001b[39;00m \u001b[38;5;28;01mNone\u001b[39;00m:\n\u001b[0;32m--> 441\u001b[0m     external_context \u001b[38;5;241m=\u001b[39m \u001b[38;5;28;43mself\u001b[39;49m\u001b[38;5;241;43m.\u001b[39;49m\u001b[43mmemory\u001b[49m\u001b[38;5;241;43m.\u001b[39;49m\u001b[43mload_memory_variables\u001b[49m\u001b[43m(\u001b[49m\u001b[43minputs\u001b[49m\u001b[43m)\u001b[49m\n\u001b[1;32m    442\u001b[0m     inputs \u001b[38;5;241m=\u001b[39m \u001b[38;5;28mdict\u001b[39m(inputs, \u001b[38;5;241m*\u001b[39m\u001b[38;5;241m*\u001b[39mexternal_context)\n\u001b[1;32m    443\u001b[0m \u001b[38;5;28mself\u001b[39m\u001b[38;5;241m.\u001b[39m_validate_inputs(inputs)\n",
      "File \u001b[0;32m/usr/local/anaconda3/lib/python3.10/site-packages/langchain/memory/buffer.py:45\u001b[0m, in \u001b[0;36mConversationBufferMemory.load_memory_variables\u001b[0;34m(self, inputs)\u001b[0m\n\u001b[1;32m     43\u001b[0m \u001b[38;5;28;01mdef\u001b[39;00m \u001b[38;5;21mload_memory_variables\u001b[39m(\u001b[38;5;28mself\u001b[39m, inputs: Dict[\u001b[38;5;28mstr\u001b[39m, Any]) \u001b[38;5;241m-\u001b[39m\u001b[38;5;241m>\u001b[39m Dict[\u001b[38;5;28mstr\u001b[39m, Any]:\n\u001b[1;32m     44\u001b[0m \u001b[38;5;250m    \u001b[39m\u001b[38;5;124;03m\"\"\"Return history buffer.\"\"\"\u001b[39;00m\n\u001b[0;32m---> 45\u001b[0m     \u001b[38;5;28;01mreturn\u001b[39;00m {\u001b[38;5;28mself\u001b[39m\u001b[38;5;241m.\u001b[39mmemory_key: \u001b[38;5;28;43mself\u001b[39;49m\u001b[38;5;241;43m.\u001b[39;49m\u001b[43mbuffer\u001b[49m}\n",
      "File \u001b[0;32m/usr/local/anaconda3/lib/python3.10/site-packages/langchain/memory/buffer.py:19\u001b[0m, in \u001b[0;36mConversationBufferMemory.buffer\u001b[0;34m(self)\u001b[0m\n\u001b[1;32m     16\u001b[0m \u001b[38;5;129m@property\u001b[39m\n\u001b[1;32m     17\u001b[0m \u001b[38;5;28;01mdef\u001b[39;00m \u001b[38;5;21mbuffer\u001b[39m(\u001b[38;5;28mself\u001b[39m) \u001b[38;5;241m-\u001b[39m\u001b[38;5;241m>\u001b[39m Any:\n\u001b[1;32m     18\u001b[0m \u001b[38;5;250m    \u001b[39m\u001b[38;5;124;03m\"\"\"String buffer of memory.\"\"\"\u001b[39;00m\n\u001b[0;32m---> 19\u001b[0m     \u001b[38;5;28;01mreturn\u001b[39;00m \u001b[38;5;28mself\u001b[39m\u001b[38;5;241m.\u001b[39mbuffer_as_messages \u001b[38;5;28;01mif\u001b[39;00m \u001b[38;5;28mself\u001b[39m\u001b[38;5;241m.\u001b[39mreturn_messages \u001b[38;5;28;01melse\u001b[39;00m \u001b[38;5;28;43mself\u001b[39;49m\u001b[38;5;241;43m.\u001b[39;49m\u001b[43mbuffer_as_str\u001b[49m\n",
      "File \u001b[0;32m/usr/local/anaconda3/lib/python3.10/site-packages/langchain/memory/buffer.py:25\u001b[0m, in \u001b[0;36mConversationBufferMemory.buffer_as_str\u001b[0;34m(self)\u001b[0m\n\u001b[1;32m     21\u001b[0m \u001b[38;5;129m@property\u001b[39m\n\u001b[1;32m     22\u001b[0m \u001b[38;5;28;01mdef\u001b[39;00m \u001b[38;5;21mbuffer_as_str\u001b[39m(\u001b[38;5;28mself\u001b[39m) \u001b[38;5;241m-\u001b[39m\u001b[38;5;241m>\u001b[39m \u001b[38;5;28mstr\u001b[39m:\n\u001b[1;32m     23\u001b[0m \u001b[38;5;250m    \u001b[39m\u001b[38;5;124;03m\"\"\"Exposes the buffer as a string in case return_messages is True.\"\"\"\u001b[39;00m\n\u001b[1;32m     24\u001b[0m     \u001b[38;5;28;01mreturn\u001b[39;00m get_buffer_string(\n\u001b[0;32m---> 25\u001b[0m         \u001b[38;5;28;43mself\u001b[39;49m\u001b[38;5;241;43m.\u001b[39;49m\u001b[43mchat_memory\u001b[49m\u001b[38;5;241;43m.\u001b[39;49m\u001b[43mmessages\u001b[49m,\n\u001b[1;32m     26\u001b[0m         human_prefix\u001b[38;5;241m=\u001b[39m\u001b[38;5;28mself\u001b[39m\u001b[38;5;241m.\u001b[39mhuman_prefix,\n\u001b[1;32m     27\u001b[0m         ai_prefix\u001b[38;5;241m=\u001b[39m\u001b[38;5;28mself\u001b[39m\u001b[38;5;241m.\u001b[39mai_prefix,\n\u001b[1;32m     28\u001b[0m     )\n",
      "File \u001b[0;32m/usr/local/anaconda3/lib/python3.10/site-packages/langchain/memory/chat_message_histories/redis.py:49\u001b[0m, in \u001b[0;36mRedisChatMessageHistory.messages\u001b[0;34m(self)\u001b[0m\n\u001b[1;32m     46\u001b[0m \u001b[38;5;129m@property\u001b[39m\n\u001b[1;32m     47\u001b[0m \u001b[38;5;28;01mdef\u001b[39;00m \u001b[38;5;21mmessages\u001b[39m(\u001b[38;5;28mself\u001b[39m) \u001b[38;5;241m-\u001b[39m\u001b[38;5;241m>\u001b[39m List[BaseMessage]:  \u001b[38;5;66;03m# type: ignore\u001b[39;00m\n\u001b[1;32m     48\u001b[0m \u001b[38;5;250m    \u001b[39m\u001b[38;5;124;03m\"\"\"Retrieve the messages from Redis\"\"\"\u001b[39;00m\n\u001b[0;32m---> 49\u001b[0m     _items \u001b[38;5;241m=\u001b[39m \u001b[38;5;28;43mself\u001b[39;49m\u001b[38;5;241;43m.\u001b[39;49m\u001b[43mredis_client\u001b[49m\u001b[38;5;241;43m.\u001b[39;49m\u001b[43mlrange\u001b[49m\u001b[43m(\u001b[49m\u001b[38;5;28;43mself\u001b[39;49m\u001b[38;5;241;43m.\u001b[39;49m\u001b[43mkey\u001b[49m\u001b[43m,\u001b[49m\u001b[43m \u001b[49m\u001b[38;5;241;43m0\u001b[39;49m\u001b[43m,\u001b[49m\u001b[43m \u001b[49m\u001b[38;5;241;43m-\u001b[39;49m\u001b[38;5;241;43m1\u001b[39;49m\u001b[43m)\u001b[49m\n\u001b[1;32m     50\u001b[0m     items \u001b[38;5;241m=\u001b[39m [json\u001b[38;5;241m.\u001b[39mloads(m\u001b[38;5;241m.\u001b[39mdecode(\u001b[38;5;124m\"\u001b[39m\u001b[38;5;124mutf-8\u001b[39m\u001b[38;5;124m\"\u001b[39m)) \u001b[38;5;28;01mfor\u001b[39;00m m \u001b[38;5;129;01min\u001b[39;00m _items[::\u001b[38;5;241m-\u001b[39m\u001b[38;5;241m1\u001b[39m]]\n\u001b[1;32m     51\u001b[0m     messages \u001b[38;5;241m=\u001b[39m messages_from_dict(items)\n",
      "File \u001b[0;32m/usr/local/anaconda3/lib/python3.10/site-packages/redis/commands/core.py:2754\u001b[0m, in \u001b[0;36mListCommands.lrange\u001b[0;34m(self, name, start, end)\u001b[0m\n\u001b[1;32m   2744\u001b[0m \u001b[38;5;28;01mdef\u001b[39;00m \u001b[38;5;21mlrange\u001b[39m(\u001b[38;5;28mself\u001b[39m, name: \u001b[38;5;28mstr\u001b[39m, start: \u001b[38;5;28mint\u001b[39m, end: \u001b[38;5;28mint\u001b[39m) \u001b[38;5;241m-\u001b[39m\u001b[38;5;241m>\u001b[39m Union[Awaitable[\u001b[38;5;28mlist\u001b[39m], \u001b[38;5;28mlist\u001b[39m]:\n\u001b[1;32m   2745\u001b[0m \u001b[38;5;250m    \u001b[39m\u001b[38;5;124;03m\"\"\"\u001b[39;00m\n\u001b[1;32m   2746\u001b[0m \u001b[38;5;124;03m    Return a slice of the list ``name`` between\u001b[39;00m\n\u001b[1;32m   2747\u001b[0m \u001b[38;5;124;03m    position ``start`` and ``end``\u001b[39;00m\n\u001b[0;32m   (...)\u001b[0m\n\u001b[1;32m   2752\u001b[0m \u001b[38;5;124;03m    For more information see https://redis.io/commands/lrange\u001b[39;00m\n\u001b[1;32m   2753\u001b[0m \u001b[38;5;124;03m    \"\"\"\u001b[39;00m\n\u001b[0;32m-> 2754\u001b[0m     \u001b[38;5;28;01mreturn\u001b[39;00m \u001b[38;5;28;43mself\u001b[39;49m\u001b[38;5;241;43m.\u001b[39;49m\u001b[43mexecute_command\u001b[49m\u001b[43m(\u001b[49m\u001b[38;5;124;43m\"\u001b[39;49m\u001b[38;5;124;43mLRANGE\u001b[39;49m\u001b[38;5;124;43m\"\u001b[39;49m\u001b[43m,\u001b[49m\u001b[43m \u001b[49m\u001b[43mname\u001b[49m\u001b[43m,\u001b[49m\u001b[43m \u001b[49m\u001b[43mstart\u001b[49m\u001b[43m,\u001b[49m\u001b[43m \u001b[49m\u001b[43mend\u001b[49m\u001b[43m)\u001b[49m\n",
      "File \u001b[0;32m/usr/local/anaconda3/lib/python3.10/site-packages/redis/client.py:533\u001b[0m, in \u001b[0;36mRedis.execute_command\u001b[0;34m(self, *args, **options)\u001b[0m\n\u001b[1;32m    531\u001b[0m pool \u001b[38;5;241m=\u001b[39m \u001b[38;5;28mself\u001b[39m\u001b[38;5;241m.\u001b[39mconnection_pool\n\u001b[1;32m    532\u001b[0m command_name \u001b[38;5;241m=\u001b[39m args[\u001b[38;5;241m0\u001b[39m]\n\u001b[0;32m--> 533\u001b[0m conn \u001b[38;5;241m=\u001b[39m \u001b[38;5;28mself\u001b[39m\u001b[38;5;241m.\u001b[39mconnection \u001b[38;5;129;01mor\u001b[39;00m \u001b[43mpool\u001b[49m\u001b[38;5;241;43m.\u001b[39;49m\u001b[43mget_connection\u001b[49m\u001b[43m(\u001b[49m\u001b[43mcommand_name\u001b[49m\u001b[43m,\u001b[49m\u001b[43m \u001b[49m\u001b[38;5;241;43m*\u001b[39;49m\u001b[38;5;241;43m*\u001b[39;49m\u001b[43moptions\u001b[49m\u001b[43m)\u001b[49m\n\u001b[1;32m    535\u001b[0m \u001b[38;5;28;01mtry\u001b[39;00m:\n\u001b[1;32m    536\u001b[0m     \u001b[38;5;28;01mreturn\u001b[39;00m conn\u001b[38;5;241m.\u001b[39mretry\u001b[38;5;241m.\u001b[39mcall_with_retry(\n\u001b[1;32m    537\u001b[0m         \u001b[38;5;28;01mlambda\u001b[39;00m: \u001b[38;5;28mself\u001b[39m\u001b[38;5;241m.\u001b[39m_send_command_parse_response(\n\u001b[1;32m    538\u001b[0m             conn, command_name, \u001b[38;5;241m*\u001b[39margs, \u001b[38;5;241m*\u001b[39m\u001b[38;5;241m*\u001b[39moptions\n\u001b[1;32m    539\u001b[0m         ),\n\u001b[1;32m    540\u001b[0m         \u001b[38;5;28;01mlambda\u001b[39;00m error: \u001b[38;5;28mself\u001b[39m\u001b[38;5;241m.\u001b[39m_disconnect_raise(conn, error),\n\u001b[1;32m    541\u001b[0m     )\n",
      "File \u001b[0;32m/usr/local/anaconda3/lib/python3.10/site-packages/redis/connection.py:1086\u001b[0m, in \u001b[0;36mConnectionPool.get_connection\u001b[0;34m(self, command_name, *keys, **options)\u001b[0m\n\u001b[1;32m   1082\u001b[0m     \u001b[38;5;28mself\u001b[39m\u001b[38;5;241m.\u001b[39m_in_use_connections\u001b[38;5;241m.\u001b[39madd(connection)\n\u001b[1;32m   1084\u001b[0m \u001b[38;5;28;01mtry\u001b[39;00m:\n\u001b[1;32m   1085\u001b[0m     \u001b[38;5;66;03m# ensure this connection is connected to Redis\u001b[39;00m\n\u001b[0;32m-> 1086\u001b[0m     \u001b[43mconnection\u001b[49m\u001b[38;5;241;43m.\u001b[39;49m\u001b[43mconnect\u001b[49m\u001b[43m(\u001b[49m\u001b[43m)\u001b[49m\n\u001b[1;32m   1087\u001b[0m     \u001b[38;5;66;03m# connections that the pool provides should be ready to send\u001b[39;00m\n\u001b[1;32m   1088\u001b[0m     \u001b[38;5;66;03m# a command. if not, the connection was either returned to the\u001b[39;00m\n\u001b[1;32m   1089\u001b[0m     \u001b[38;5;66;03m# pool before all data has been read or the socket has been\u001b[39;00m\n\u001b[1;32m   1090\u001b[0m     \u001b[38;5;66;03m# closed. either way, reconnect and verify everything is good.\u001b[39;00m\n\u001b[1;32m   1091\u001b[0m     \u001b[38;5;28;01mtry\u001b[39;00m:\n",
      "File \u001b[0;32m/usr/local/anaconda3/lib/python3.10/site-packages/redis/connection.py:270\u001b[0m, in \u001b[0;36mAbstractConnection.connect\u001b[0;34m(self)\u001b[0m\n\u001b[1;32m    268\u001b[0m     \u001b[38;5;28;01mraise\u001b[39;00m \u001b[38;5;167;01mTimeoutError\u001b[39;00m(\u001b[38;5;124m\"\u001b[39m\u001b[38;5;124mTimeout connecting to server\u001b[39m\u001b[38;5;124m\"\u001b[39m)\n\u001b[1;32m    269\u001b[0m \u001b[38;5;28;01mexcept\u001b[39;00m \u001b[38;5;167;01mOSError\u001b[39;00m \u001b[38;5;28;01mas\u001b[39;00m e:\n\u001b[0;32m--> 270\u001b[0m     \u001b[38;5;28;01mraise\u001b[39;00m \u001b[38;5;167;01mConnectionError\u001b[39;00m(\u001b[38;5;28mself\u001b[39m\u001b[38;5;241m.\u001b[39m_error_message(e))\n\u001b[1;32m    272\u001b[0m \u001b[38;5;28mself\u001b[39m\u001b[38;5;241m.\u001b[39m_sock \u001b[38;5;241m=\u001b[39m sock\n\u001b[1;32m    273\u001b[0m \u001b[38;5;28;01mtry\u001b[39;00m:\n",
      "\u001b[0;31mConnectionError\u001b[0m: Error 61 connecting to localhost:6379. Connection refused."
     ]
    }
   ],
   "source": [
    "agent_chain.run(input=\"How many people live in canada?\")\n",
    "\n"
   ]
  },
  {
   "cell_type": "code",
   "execution_count": null,
   "id": "level-aging",
   "metadata": {},
   "outputs": [],
   "source": [
    "agent_chain.run(input=\"what is their national anthem called?\")\n",
    "\n"
   ]
  }
 ],
 "metadata": {
  "kernelspec": {
   "display_name": "Python (chainge)",
   "language": "python",
   "name": "chainge"
  },
  "language_info": {
   "codemirror_mode": {
    "name": "ipython",
    "version": 3
   },
   "file_extension": ".py",
   "mimetype": "text/x-python",
   "name": "python",
   "nbconvert_exporter": "python",
   "pygments_lexer": "ipython3",
   "version": "3.10.9"
  }
 },
 "nbformat": 4,
 "nbformat_minor": 5
}
